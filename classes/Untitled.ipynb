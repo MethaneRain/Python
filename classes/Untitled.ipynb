{
 "cells": [
  {
   "cell_type": "code",
   "execution_count": 2,
   "metadata": {},
   "outputs": [
    {
     "ename": "NameError",
     "evalue": "name 'model' is not defined",
     "output_type": "error",
     "traceback": [
      "\u001b[0;31m---------------------------------------------------------------------------\u001b[0m",
      "\u001b[0;31mNameError\u001b[0m                                 Traceback (most recent call last)",
      "\u001b[0;32m<ipython-input-2-4a4538911d5f>\u001b[0m in \u001b[0;36m<module>\u001b[0;34m\u001b[0m\n\u001b[1;32m     35\u001b[0m \u001b[0;34m\u001b[0m\u001b[0m\n\u001b[1;32m     36\u001b[0m \u001b[0mcat_1\u001b[0m \u001b[0;34m=\u001b[0m \u001b[0;34m\"http://thredds-jetstream.unidata.ucar.edu/thredds/catalog/grib/NCEP/\"\u001b[0m\u001b[0;34m\u001b[0m\u001b[0;34m\u001b[0m\u001b[0m\n\u001b[0;32m---> 37\u001b[0;31m \u001b[0mcat_2\u001b[0m \u001b[0;34m=\u001b[0m \u001b[0;34mf\"{model}/{self.model_dict[model][prod]}_{self.today_year}{self.today_month:02d}{self.today_day:02d}_{init_hour}.grib2/catalog.xml\"\u001b[0m\u001b[0;34m\u001b[0m\u001b[0;34m\u001b[0m\u001b[0m\n\u001b[0m\u001b[1;32m     38\u001b[0m \u001b[0;34m\u001b[0m\u001b[0m\n\u001b[1;32m     39\u001b[0m \u001b[0mcatalog\u001b[0m \u001b[0;34m=\u001b[0m \u001b[0mTDSCatalog\u001b[0m\u001b[0;34m(\u001b[0m\u001b[0mcat_1\u001b[0m\u001b[0;34m+\u001b[0m\u001b[0mcat_2\u001b[0m\u001b[0;34m)\u001b[0m\u001b[0;34m\u001b[0m\u001b[0;34m\u001b[0m\u001b[0m\n",
      "\u001b[0;31mNameError\u001b[0m: name 'model' is not defined"
     ]
    }
   ],
   "source": [
    "from datetime import datetime, timedelta\n",
    "        \n",
    "        # Accessing Data from XLM Catalog via Siphon Libraries\n",
    "from siphon.ncss import NCSS\n",
    "from siphon.catalog import TDSCatalog\n",
    "\n",
    "            \n",
    "model_filename_prod_dict = {\"RAP\":{\"13km\":\"CONUS_13km\",\n",
    "                                   \"20km\":\"CONUS_20km\",\n",
    "                                   \"40km\":\"CONUS_40km\"},\n",
    "                            \n",
    "                            \"GFS\":{\"0p25_ana\":\"Global_0p25deg_ana\",\n",
    "                                    \"0p25\":\"Global_0p25deg\",\n",
    "                                    \"0p5_ana\":\"Global_0p5deg_ana\",\n",
    "                                    \"0p5\":\"Global_0p5deg\",\n",
    "                                    \"onedeg_ana\":\"Global_onedeg_ana\",\n",
    "                                    \"onedeg\":\"Global_onedeg\",\n",
    "                                    \"Pac_20km\":\"Pacific_20km\",\n",
    "                                    \"PR_0p25\":\"Puerto_Rico_0p25deg\",\n",
    "                                    \"CONUS_95km\":\"CONUS_95km\",\n",
    "                                    \"CONUS_80km\":\"CONUS_80km\",\n",
    "                                    \"CONUS_20km\":\"CONUS_20km\",\n",
    "                                    \"AK_20km\":\"Alaska_20km\"},\n",
    "                            \n",
    "                            \"HRRR\":{\"CONUS_3km\":\"CONUS_3km\",\n",
    "                                    \"CONUS_2p5km_ana\":\"CONUS_2p5km_ana\",\n",
    "                                    \"CONUS_2p5km\":\"CONUS_2p5km\"},\n",
    "                            \n",
    "                            \"GEFS\":{\"onedeg_ana\":\"Global_1p0deg_Ensemble_ana\",\n",
    "                                    \"onedeg\":\"Global_1p0deg_Ensemble\",\n",
    "                                    \"onedeg_derived\":\"Global_1p0deg_Ensemble\"}\n",
    "                           }\n",
    "        \n",
    "\n",
    "        \n",
    "cat_1 = \"http://thredds-jetstream.unidata.ucar.edu/thredds/catalog/grib/NCEP/\"\n",
    "cat_2 = f\"{model}/{self.model_dict[model][prod]}_{self.today_year}{self.today_month:02d}{self.today_day:02d}_{init_hour}.grib2/catalog.xml\"\n",
    "        \n",
    "catalog = TDSCatalog(cat_1+cat_2)"
   ]
  },
  {
   "cell_type": "code",
   "execution_count": null,
   "metadata": {},
   "outputs": [],
   "source": []
  }
 ],
 "metadata": {
  "kernelspec": {
   "display_name": "Python 3",
   "language": "python",
   "name": "python3"
  },
  "language_info": {
   "codemirror_mode": {
    "name": "ipython",
    "version": 3
   },
   "file_extension": ".py",
   "mimetype": "text/x-python",
   "name": "python",
   "nbconvert_exporter": "python",
   "pygments_lexer": "ipython3",
   "version": "3.7.3"
  }
 },
 "nbformat": 4,
 "nbformat_minor": 4
}
