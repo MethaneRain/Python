{
 "cells": [
  {
   "cell_type": "markdown",
   "metadata": {},
   "source": [
    "<h3>This is a quick test notebook for running my basic GOES plotting Class</h3>\n",
    "\n",
    "---"
   ]
  },
  {
   "cell_type": "code",
   "execution_count": null,
   "metadata": {},
   "outputs": [],
   "source": [
    "import pandas as pd\n",
    "from matplotlib.colors import LinearSegmentedColormap\n",
    "from matplotlib.colors import ListedColormap\n",
    "ir = pd.read_csv(\"/Users/chowdahead/Documents/ir_cmap.csv\")\n",
    "ir_colors = [(float(ir[\"r\"][i]),\n",
    "                               float(ir[\"g\"][i]),\n",
    "                               float(ir[\"b\"][i]),\n",
    "                               float(ir[\"a\"][i])\n",
    "                             ) for i in range(0,2048)]\n",
    "cmap_name=\"ir\"\n",
    "ir_cmap = LinearSegmentedColormap.from_list(\n",
    "            cmap_name, ir_colors)\n",
    "ir_cmap_r = ListedColormap(ir_colors[::-1])"
   ]
  },
  {
   "cell_type": "code",
   "execution_count": null,
   "metadata": {},
   "outputs": [],
   "source": [
    "import goes_class_example as goes"
   ]
  },
  {
   "cell_type": "code",
   "execution_count": null,
   "metadata": {},
   "outputs": [],
   "source": [
    "sat = goes.GoesImages()"
   ]
  },
  {
   "cell_type": "code",
   "execution_count": null,
   "metadata": {},
   "outputs": [],
   "source": [
    "file_path = \"/Users/chowdahead/Downloads/WX_Data/GOES_Data/\""
   ]
  },
  {
   "cell_type": "code",
   "execution_count": null,
   "metadata": {},
   "outputs": [],
   "source": [
    "sat.grab_goes_files(file_path,\"13\")"
   ]
  },
  {
   "cell_type": "raw",
   "metadata": {},
   "source": [
    "sat.get_sat_data(sat.GOES_files[0])"
   ]
  },
  {
   "cell_type": "code",
   "execution_count": null,
   "metadata": {},
   "outputs": [],
   "source": [
    "sat.get_goes_projection()\n",
    "sat.abi_crs"
   ]
  },
  {
   "cell_type": "code",
   "execution_count": null,
   "metadata": {},
   "outputs": [],
   "source": [
    "sat.ch"
   ]
  },
  {
   "cell_type": "code",
   "execution_count": null,
   "metadata": {},
   "outputs": [],
   "source": [
    "sat.plot_goes(sat.GOES_files[2],\n",
    "              sat.im_save_path,\n",
    "              sat.extent,\n",
    "              my_cmap=ir_cmap_r,\n",
    "              vmin=164,vmax=330,show=True)"
   ]
  },
  {
   "cell_type": "code",
   "execution_count": null,
   "metadata": {},
   "outputs": [],
   "source": []
  },
  {
   "cell_type": "code",
   "execution_count": null,
   "metadata": {},
   "outputs": [],
   "source": [
    "sat2 = goes.GoesImages()"
   ]
  },
  {
   "cell_type": "code",
   "execution_count": null,
   "metadata": {},
   "outputs": [],
   "source": [
    "sat2.grab_goes_files(file_path,\"02\")"
   ]
  },
  {
   "cell_type": "raw",
   "metadata": {},
   "source": [
    "# If you want to see the data, run get_sat_data(file)\n",
    "sat2.get_sat_data(sat2.GOES_files[0])"
   ]
  },
  {
   "cell_type": "code",
   "execution_count": null,
   "metadata": {},
   "outputs": [],
   "source": [
    "sat2.plot_goes(sat2.GOES_files[2],\n",
    "               sat2.im_save_path,sat2.extent,\n",
    "               my_cmap=\"Greys_r\",\n",
    "               show=True)"
   ]
  },
  {
   "cell_type": "code",
   "execution_count": null,
   "metadata": {},
   "outputs": [],
   "source": [
    "sat2.file_time"
   ]
  },
  {
   "cell_type": "code",
   "execution_count": null,
   "metadata": {},
   "outputs": [],
   "source": [
    "sat2.sat_h"
   ]
  },
  {
   "cell_type": "code",
   "execution_count": null,
   "metadata": {},
   "outputs": [],
   "source": []
  }
 ],
 "metadata": {
  "kernelspec": {
   "display_name": "Python 3",
   "language": "python",
   "name": "python3"
  },
  "language_info": {
   "codemirror_mode": {
    "name": "ipython",
    "version": 3
   },
   "file_extension": ".py",
   "mimetype": "text/x-python",
   "name": "python",
   "nbconvert_exporter": "python",
   "pygments_lexer": "ipython3",
   "version": "3.7.6"
  }
 },
 "nbformat": 4,
 "nbformat_minor": 2
}
