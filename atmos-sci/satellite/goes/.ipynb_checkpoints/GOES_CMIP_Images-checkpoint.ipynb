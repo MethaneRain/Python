{
 "cells": [
  {
   "cell_type": "markdown",
   "metadata": {},
   "source": [
    "# GOES Infrared Satellite Images\n",
    "### Channels avaliable in this notebook are:\n",
    "* 13 - Clean Longwave IR:  10.3 $\\mu m$"
   ]
  },
  {
   "cell_type": "markdown",
   "metadata": {},
   "source": [
    "## Justin Richling\n",
    "## 09/20/18"
   ]
  },
  {
   "cell_type": "markdown",
   "metadata": {},
   "source": [
    "http://home.chpc.utah.edu/~u0553130/Brian_Blaylock/cgi-bin/goes16_download.cgi"
   ]
  },
  {
   "cell_type": "markdown",
   "metadata": {},
   "source": [
    "## Imports"
   ]
  },
  {
   "cell_type": "code",
   "execution_count": 1,
   "metadata": {},
   "outputs": [],
   "source": [
    "# Random Library Imports\n",
    "import subprocess,os,glob\n",
    "\n",
    "# Importing Datetime Libraries\n",
    "from datetime import datetime, date\n",
    "\n",
    "# CartoPy Map Plotting Libraires\n",
    "import cartopy.crs as ccrs\n",
    "import cartopy.feature as cfeature\n",
    "\n",
    "# Numerical and Scientific Libraries\n",
    "import numpy as np\n",
    "\n",
    "# Accessing Data from External Databases via XLM Catalog\n",
    "from siphon.ncss import NCSS\n",
    "from siphon.catalog import TDSCatalog\n",
    "\n",
    "# MetPy Libraries\n",
    "import metpy\n",
    "import metpy.calc as mpcalc\n",
    "from metpy.units import units\n",
    "from metpy.plots import ctables\n",
    "from metpy.plots import add_metpy_logo\n",
    "from metpy.plots.ctables import registry\n",
    "from metpy.plots import add_timestamp\n",
    "\n",
    "# NetCDF Libraries\n",
    "from netCDF4 import Dataset\n",
    "from netCDF4 import num2date\n",
    "\n",
    "# Matplotlib Plotting Libraries\n",
    "#import matplotlib\n",
    "import matplotlib.pyplot as plt\n",
    "from matplotlib.cm import get_cmap\n",
    "import matplotlib.colors as mcolors\n",
    "from matplotlib.colors import LogNorm, Normalize\n",
    "import matplotlib as mpl\n",
    "from mpl_toolkits.axes_grid1 import make_axes_locatable, axes_size\n",
    "from matplotlib.colors import LinearSegmentedColormap\n",
    "from matplotlib import patheffects\n",
    "\n"
   ]
  },
  {
   "cell_type": "code",
   "execution_count": 2,
   "metadata": {},
   "outputs": [],
   "source": [
    "import cartopy.io.shapereader as shpreader\n",
    "import cartopy.feature as cfeat"
   ]
  },
  {
   "cell_type": "code",
   "execution_count": 2,
   "metadata": {},
   "outputs": [],
   "source": [
    "# Pull the current time\n",
    "now = datetime.now()"
   ]
  },
  {
   "cell_type": "code",
   "execution_count": 3,
   "metadata": {},
   "outputs": [],
   "source": [
    "# Set the font \n",
    "font = {'family': 'serif',\n",
    "        'color':  'darkred',\n",
    "        'weight': 'normal',\n",
    "        'size': 18,\n",
    "        }"
   ]
  },
  {
   "cell_type": "code",
   "execution_count": 4,
   "metadata": {},
   "outputs": [],
   "source": [
    "# Unidata/MetPy Dictionary of GOES channels\n",
    "\n",
    "channel_list = {u'1 - Blue Band 0.47 \\u03BCm': 1,\n",
    "                u'2 - Red Band 0.64 \\u03BCm': 2,\n",
    "                u'3 - Veggie Band 0.86 \\u03BCm': 3,\n",
    "                u'4 - Cirrus Band 1.37 \\u03BCm': 4,\n",
    "                u'5 - Snow/Ice Band 1.6 \\u03BCm': 5,\n",
    "                u'6 - Cloud Particle Size Band 2.2 \\u03BCm': 6,\n",
    "                u'7 - Shortwave Window Band 3.9 \\u03BCm': 7,\n",
    "                u'8 - Upper-Level Tropo. WV Band 6.2 \\u03BCm': 8,\n",
    "                u'9 - Mid-Level Tropo. WV Band 6.9 \\u03BCm': 9,\n",
    "                u'10 - Low-Level WV Band 7.3 \\u03BCm': 10,\n",
    "                u'11 - Cloud-Top Phase Band 8.4 \\u03BCm': 11,\n",
    "                u'12 - Ozone Band 9.6 \\u03BCm': 12,\n",
    "                u'13 - Clean IR Longwave Band 10.3 \\u03BCm': 13,\n",
    "                u'14 - IR Longwave Band 11.2 \\u03BCm': 14,\n",
    "                u'15 - Dirty Longwave Band 12.3 \\u03BCm': 15,\n",
    "                u'16 - CO2 Longwave IR 13.3 \\u03BCm': 16}"
   ]
  },
  {
   "cell_type": "markdown",
   "metadata": {},
   "source": [
    "# Archived Data"
   ]
  },
  {
   "cell_type": "code",
   "execution_count": 51,
   "metadata": {},
   "outputs": [
    {
     "name": "stdout",
     "output_type": "stream",
     "text": [
      "date:  2019-08-25-00-08\n",
      "Julian number:  237\n"
     ]
    }
   ],
   "source": [
    "# Set the date you want to convert\n",
    "dt = datetime(2019, 8, 25)\n",
    "#dt = now\n",
    "\n",
    "# Start of year for reference\n",
    "d0 = datetime(2019, 1, 1)\n",
    "\n",
    "# Find the difference and add one to get the day number of the calander year\n",
    "delta = dt - d0\n",
    "Julian_Day = delta.days+1\n",
    "if Julian_Day < 100:\n",
    "    Julian_Day = \"0\"+str(Julian_Day)\n",
    "    if int(Julian_Day) < 10:\n",
    "        Julian_Day = \"0\"+str(Julian_Day)\n",
    "\n",
    "Year = str('{0:%Y}'.format(dt))\n",
    "Month = str('{0:%m}'.format(dt))\n",
    "Day = str('{0:%d}'.format(dt))\n",
    "Hour = str('{0:%H}'.format(dt))\n",
    "Minute = str('{0:%m}'.format(dt))\n",
    "\n",
    "#'{0:%Y}'.format(dt)+\"-\"+'{0:%m}'.format(dt)+\"-\"+'{0:%d}'.format(dt)+\"-\"+'{0:%H}'.format(dt)\n",
    "print(\"date: \",Year+\"-\"+Month+\"-\"+Day+\"-\"+Hour+\"-\"+Minute)\n",
    "\n",
    "# Julian day (Day)\n",
    "print(\"Julian number: \",Julian_Day)"
   ]
  },
  {
   "cell_type": "raw",
   "metadata": {},
   "source": [
    "Julian_Day = 139"
   ]
  },
  {
   "cell_type": "raw",
   "metadata": {},
   "source": [
    "! rclone ls Public-AWS:noaa-goes16/ABI-L2-CMIPC/2020/130/18"
   ]
  },
  {
   "cell_type": "code",
   "execution_count": 35,
   "metadata": {},
   "outputs": [
    {
     "name": "stdout",
     "output_type": "stream",
     "text": [
      "CPU times: user 306 ms, sys: 102 ms, total: 408 ms\n",
      "Wall time: 14.9 s\n"
     ]
    }
   ],
   "source": [
    "%%time\n",
    "\n",
    "# rclone AWS data access via remote server\n",
    "# Day must be Julian day number\n",
    "! rclone --include \"OR_*-M6C13*.nc\" copy Public-AWS:noaa-goes16/ABI-L2-CMIPC/2020/130/00/ ./\n"
   ]
  },
  {
   "cell_type": "code",
   "execution_count": 36,
   "metadata": {},
   "outputs": [
    {
     "data": {
      "text/plain": [
       "'/Users/chowdahead/Downloads/WX_Data/GOES_Data'"
      ]
     },
     "execution_count": 36,
     "metadata": {},
     "output_type": "execute_result"
    }
   ],
   "source": [
    "# Check to make sure the data went to the right path\n",
    "GOES_sample_path = \"/Users/chowdahead/Downloads/WX_Data/GOES_Data\"\n",
    "GOES_sample_path"
   ]
  },
  {
   "cell_type": "markdown",
   "metadata": {},
   "source": [
    "# --------------------------------------------------------------------------------------------"
   ]
  },
  {
   "cell_type": "markdown",
   "metadata": {},
   "source": [
    "# Populate the Lists for Different Channels"
   ]
  },
  {
   "cell_type": "code",
   "execution_count": 37,
   "metadata": {},
   "outputs": [
    {
     "name": "stdout",
     "output_type": "stream",
     "text": [
      "\u001b[1m\u001b[34mAirmass\u001b[m\u001b[m/\r\n",
      "\u001b[1m\u001b[34mDust\u001b[m\u001b[m/\r\n",
      "GOES_rgb_airmass.png\r\n",
      "GOES_rgb_convection.png\r\n",
      "GOES_rgb_true_color.png\r\n",
      "OR_ABI-L1b-RadC-M6C01_G16_s20201391801120_e20201391803493_c20201391803545.nc\r\n",
      "OR_ABI-L1b-RadC-M6C02_G16_s20201391801120_e20201391803493_c20201391803522.nc\r\n",
      "OR_ABI-L1b-RadC-M6C03_G16_s20201391801120_e20201391803493_c20201391804023.nc\r\n",
      "OR_ABI-L1b-RadC-M6C05_G16_s20201391801120_e20201391803493_c20201391803585.nc\r\n",
      "OR_ABI-L1b-RadC-M6C07_G16_s20201391801120_e20201391803505_c20201391803557.nc\r\n",
      "OR_ABI-L1b-RadC-M6C08_G16_s20201391801120_e20201391803493_c20201391803599.nc\r\n",
      "OR_ABI-L1b-RadC-M6C10_G16_s20201391801120_e20201391803504_c20201391803579.nc\r\n",
      "OR_ABI-L1b-RadC-M6C11_G16_s20201391801120_e20201391803493_c20201391803570.nc\r\n",
      "OR_ABI-L1b-RadC-M6C12_G16_s20201391801120_e20201391803498_c20201391803551.nc\r\n",
      "OR_ABI-L1b-RadC-M6C13_G16_s20201391801120_e20201391803504_c20201391804013.nc\r\n",
      "OR_ABI-L1b-RadC-M6C14_G16_s20201391801120_e20201391803493_c20201391803590.nc\r\n",
      "OR_ABI-L1b-RadC-M6C15_G16_s20201391801120_e20201391803499_c20201391804029.nc\r\n",
      "OR_ABI-L1b-RadC-M6C16_G16_s20201391801120_e20201391803505_c20201391803564.nc\r\n",
      "OR_ABI-L2-CMIPC-M6C13_G16_s20201300001113_e20201300003497_c20201300004017.nc\r\n",
      "OR_ABI-L2-CMIPC-M6C13_G16_s20201300006113_e20201300008498_c20201300009019.nc\r\n",
      "OR_ABI-L2-CMIPC-M6C13_G16_s20201300011113_e20201300013498_c20201300014030.nc\r\n",
      "OR_ABI-L2-CMIPC-M6C13_G16_s20201300016113_e20201300018497_c20201300019025.nc\r\n",
      "OR_ABI-L2-CMIPC-M6C13_G16_s20201300021113_e20201300023498_c20201300024016.nc\r\n",
      "OR_ABI-L2-CMIPC-M6C13_G16_s20201300026113_e20201300028498_c20201300028585.nc\r\n",
      "OR_ABI-L2-CMIPC-M6C13_G16_s20201300031113_e20201300033498_c20201300034027.nc\r\n",
      "OR_ABI-L2-CMIPC-M6C13_G16_s20201300036113_e20201300038498_c20201300039007.nc\r\n",
      "OR_ABI-L2-CMIPC-M6C13_G16_s20201300041113_e20201300043498_c20201300044025.nc\r\n",
      "OR_ABI-L2-CMIPC-M6C13_G16_s20201300046113_e20201300048498_c20201300048598.nc\r\n",
      "OR_ABI-L2-CMIPC-M6C13_G16_s20201300051113_e20201300053498_c20201300054017.nc\r\n",
      "OR_ABI-L2-CMIPC-M6C13_G16_s20201300056113_e20201300058498_c20201300059000.nc\r\n",
      "\u001b[1m\u001b[34mTrue_Color\u001b[m\u001b[m/\r\n",
      "\u001b[1m\u001b[34mUsers\u001b[m\u001b[m/\r\n",
      "true_color_20200512_150111.mp4\r\n"
     ]
    }
   ],
   "source": [
    "ls"
   ]
  },
  {
   "cell_type": "code",
   "execution_count": 51,
   "metadata": {},
   "outputs": [
    {
     "name": "stdout",
     "output_type": "stream",
     "text": [
      "12\n",
      "/Users/chowdahead/Downloads/WX_Data/GOES_Data/OR_ABI-L2-CMIPC-M6C13_G16_s20201300001113_e20201300003497_c20201300004017.nc\n"
     ]
    }
   ],
   "source": [
    "GOES_samples = []\n",
    "\n",
    "for name in glob.glob(GOES_sample_path+'/*CMIPC*M6C13*.nc'):\n",
    "    GOES_samples.append(name)\n",
    "    #for name in glob.glob(GOES_sample_path+'OR*L2*RadC*C09*G16*s'+Year+str(Julian_Day)+'*.nc'):\n",
    "    #    GOES16_samples_9.append(name)\n",
    "\n",
    "GOES_samples = sorted(GOES_samples)\n",
    "print(len(GOES_samples))\n",
    "print(GOES_samples[0])"
   ]
  },
  {
   "cell_type": "markdown",
   "metadata": {},
   "source": [
    "# Single images here; loops are further down in the notebook"
   ]
  },
  {
   "cell_type": "markdown",
   "metadata": {},
   "source": [
    "### Set the lat/lon extent of the map"
   ]
  },
  {
   "cell_type": "code",
   "execution_count": 47,
   "metadata": {},
   "outputs": [],
   "source": [
    "# Lon/Lat Box\n",
    "\n",
    "# [Lon_0, Lon_1, Lat_0, Lat_1]\n",
    "# CONUS\n",
    "extent = [-120., -70, 20., 50.] \n",
    "#extent = [-102.97, -96.97, 35.75, 39.75]"
   ]
  },
  {
   "cell_type": "markdown",
   "metadata": {},
   "source": [
    "## IR - Channel 13\n",
    "With the help of searching through some Unidata public emails, I was able to find the color table for the NESDIS IR colorbar. \n",
    "* https://www.unidata.ucar.edu/mailing_lists/archives/ldm-users/2018/msg00055.html"
   ]
  },
  {
   "cell_type": "code",
   "execution_count": 12,
   "metadata": {},
   "outputs": [
    {
     "name": "stdout",
     "output_type": "stream",
     "text": [
      "/Users/chowdahead\n"
     ]
    }
   ],
   "source": [
    "cd ~/"
   ]
  },
  {
   "cell_type": "code",
   "execution_count": 40,
   "metadata": {},
   "outputs": [
    {
     "name": "stdout",
     "output_type": "stream",
     "text": [
      "For plotting (ie pcolormesh, imshow, etc.) set the max/min:\n",
      "vmin=162.  vmax=330.\n"
     ]
    }
   ],
   "source": [
    "import GOES_IR_ColorMap as IR"
   ]
  },
  {
   "cell_type": "markdown",
   "metadata": {},
   "source": [
    "<h1>We can also define a map projection function that can take details of the different channels</h1>\n",
    "\n",
    "* path - data file location\n",
    "* channel - which GOES channel number\n",
    "* title - plot title\n",
    "* savepath - image save location\n",
    "* my_cmap - (optional) desired color table\n",
    "* vmin - (optional) min value for plotting\n",
    "* vmax - (optional) max value for plotting"
   ]
  },
  {
   "cell_type": "code",
   "execution_count": null,
   "metadata": {},
   "outputs": [],
   "source": []
  },
  {
   "cell_type": "code",
   "execution_count": 49,
   "metadata": {},
   "outputs": [],
   "source": [
    "def Map(path,channel,savepath,extent,my_cmap=None,vmin=None,vmax=None):\n",
    "    vis_name = path[-76:]\n",
    "    title = \"GOES-\"+vis_name[23:25]+\" Ch \"+str(channel)+\" - IR\"\n",
    "    nc = Dataset(path)\n",
    "    data = nc.variables['CMI'][:]\n",
    "            #ch2nc.close()\n",
    "            #ch2nc = None\n",
    "        \n",
    "    sat_h = nc.variables['goes_imager_projection'].perspective_point_height\n",
    "    \n",
    "    X = nc.variables['x'][:] * sat_h\n",
    "    Y = nc.variables['y'][:] * sat_h\n",
    "\n",
    "    proj_var = nc.variables['goes_imager_projection']\n",
    "    sat_height = proj_var.perspective_point_height\n",
    "    central_lon = proj_var.longitude_of_projection_origin\n",
    "    semi_major = proj_var.semi_major_axis\n",
    "    semi_minor = proj_var.semi_minor_axis\n",
    "\n",
    "# Create new figure\n",
    "    #fig = plt.figure(figsize=(17., 11.))\n",
    "    fig = plt.figure(figsize=(17,11))\n",
    "\n",
    "# Add state boundaries to plot\n",
    "    states_boundaries = cfeature.NaturalEarthFeature(category='cultural',\n",
    "        name='admin_1_states_provinces_lakes',scale='50m', facecolor='none')\n",
    "\n",
    "    country_borders = cfeature.NaturalEarthFeature(category='cultural',\n",
    "        name='admin_0_countries',scale='50m', facecolor='none')\n",
    "    \n",
    "# Set Projection of Plot\n",
    "    globe = ccrs.Globe(semimajor_axis=semi_major, semiminor_axis=semi_minor)\n",
    "    crs = ccrs.Geostationary(central_longitude=central_lon, satellite_height=sat_height, globe=globe)\n",
    "    #plotcrs = ccrs.LambertConformal(central_latitude=[30, 60], central_longitude=-100)\n",
    "    plotcrs = ccrs.LambertConformal(central_longitude=-99.969 ,central_latitude=37.761)\n",
    "\n",
    "# Add the map and set the extent\n",
    "    ax = plt.subplot(111, projection=plotcrs) \n",
    "        \n",
    "    #reader = shpreader.Reader('/Users/chowdahead/Documents/shapefiles/countyl010g_shp_nt00964/countyl010g.shp')\n",
    "    #counties = list(reader.geometries())\n",
    "    #COUNTIES = cfeat.ShapelyFeature(counties,ccrs.PlateCarree())\n",
    "    #ax.add_feature(COUNTIES, facecolor='none',edgecolor='r')\n",
    "# Find and convert Julian day to date    \n",
    "    import datetime as DT\n",
    "    dt = datetime(2019,1,1)\n",
    "    #print(vis_name[31:34])\n",
    "    dtdelta = DT.timedelta(days=int(vis_name[31:34])-1)\n",
    "    Day = dt + dtdelta\n",
    "    im_file = vis_name[27:31]+\"_\"+'{0:%m_%d}'.format(Day)+\"_\"+vis_name[34:36]+vis_name[36:38]\n",
    "    title_date = vis_name[27:31]+\" \"+'{0:%B %d}'.format(Day)+\" \"+vis_name[34:36]+\"\"+vis_name[36:38]+\"Z\"\n",
    "    im_file = vis_name[27:31]+\"_\"+'{0:%m_%d}'.format(Day)+\"_\"+vis_name[34:36]+vis_name[36:38]\n",
    "\n",
    "# Set the plot title    \n",
    "    #plt.title(title,loc='left',fontdict=font)\n",
    "    #plt.title(title_date,loc='right',fontdict=font)\n",
    "    \n",
    "    text_time = ax.text(.995, 0.01, \n",
    "        vis_name[27:31]+\" \"+'{0:%B %d}'.format(Day)+\" \"+vis_name[34:36]+\"\"+vis_name[36:38]+\"Z\",\n",
    "        horizontalalignment='right', transform=ax.transAxes,\n",
    "        color='white', fontsize=20, weight='bold')\n",
    "\n",
    "    text_time2 = ax.text(0.005, 0.01, \n",
    "        title,\n",
    "        horizontalalignment='left', transform=ax.transAxes,\n",
    "        color='white', fontsize=20, weight='bold')\n",
    "\n",
    "    outline_effect = [patheffects.withStroke(linewidth=5, foreground='black')]\n",
    "    text_time.set_path_effects(outline_effect)\n",
    "    text_time2.set_path_effects(outline_effect)\n",
    "\n",
    "# Add state boundaries to plot\n",
    "    ax.add_feature(states_boundaries, edgecolor='blue', linewidth=1)\n",
    "\n",
    "# Add country borders to plot\n",
    "    ax.add_feature(country_borders, edgecolor='black', linewidth=1)\n",
    "\n",
    "# Set the plotting extent    \n",
    "    #ax.set_extent(extent, ccrs.PlateCarree()) # Eastern Pacific\n",
    "\n",
    "# Plot the image\n",
    "    #img = ax.imshow(data[:],origin='upper',vmin=vmin,vmax=vmax,extent=(X.min(), X.max(), Y.min(), Y.max()),\n",
    "    #    interpolation='nearest',transform=crs,cmap=my_cmap) \n",
    "\n",
    "    ax.set_extent(extent)\n",
    "\n",
    "    ax.gridlines(color=\"w\", linestyle=\"dotted\",alpha=0.5)\n",
    "\n",
    "    im = plt.imshow(data[:],origin='upper',extent=(X.min(), X.max(), Y.min(), Y.max()),\n",
    "                interpolation='nearest',vmin=162.,vmax=330.,cmap=my_cmap, transform=crs) #,vmin=vmin,vmax=vmax\n",
    "    cbar = plt.colorbar(im, orientation='vertical',pad=0.005,aspect=50)\n",
    "    \n",
    "# Display the figure\n",
    "    #plt.show()\n",
    "    \n",
    "# Set the name for saved figure, and save it \n",
    "\n",
    "    \n",
    "    #day_path = savepath+'{0:%m_%d}'.format(Day)+\"/\"\n",
    "    #if not os.path.isdir(day_path):\n",
    "    #    os.makedirs(day_path)\n",
    "    #print(day_path)\n",
    "    #fig.savefig(outfile,bbox_inches='tight',dpi=120)\n",
    "    outfile = \"GOES\"+vis_name[23:25]+\"_Ch\"+str(channel)+\"_\"+str(im_file)+\".png\"\n",
    "    fig.savefig(save_path+outfile,bbox_inches='tight')#,dpi=120\n",
    "    plt.close(fig)"
   ]
  },
  {
   "cell_type": "markdown",
   "metadata": {},
   "source": [
    "## We can now imput data from the different channels and have our generic map maker function run on each to produce our satellite images!"
   ]
  },
  {
   "cell_type": "markdown",
   "metadata": {},
   "source": [
    "### Map Arguments: Map(path, channel, title, savepath, my_cmap, vmin=None, vmax=None)"
   ]
  },
  {
   "cell_type": "code",
   "execution_count": 43,
   "metadata": {},
   "outputs": [],
   "source": [
    "save_path = \"/Users/chowdahead/Desktop/\"\n",
    "save_path"
   ]
  },
  {
   "cell_type": "code",
   "execution_count": 50,
   "metadata": {
    "scrolled": false
   },
   "outputs": [],
   "source": [
    "# Map(path,channel,title,savepath,extent,my_cmap=None,vmin=None,vmax=None)\n",
    "\n",
    "i = 2\n",
    "channel=13\n",
    "#Map(GOES16_samples_13[i],channel,title,save_path,extent,IR_cmap,vmin=162.,vmax=330.)\n",
    "Map(GOES16_samples_13[i],channel,save_path,extent,my_cmap=IR.IR_Colormap())"
   ]
  },
  {
   "cell_type": "markdown",
   "metadata": {},
   "source": [
    "<h2>----------------------------------------------//---------------------------------------------------------</h2>\n",
    "<h2>----------------------------------------------//---------------------------------------------------------</h2>"
   ]
  }
 ],
 "metadata": {
  "kernelspec": {
   "display_name": "Python 3",
   "language": "python",
   "name": "python3"
  },
  "language_info": {
   "codemirror_mode": {
    "name": "ipython",
    "version": 3
   },
   "file_extension": ".py",
   "mimetype": "text/x-python",
   "name": "python",
   "nbconvert_exporter": "python",
   "pygments_lexer": "ipython3",
   "version": "3.7.6"
  }
 },
 "nbformat": 4,
 "nbformat_minor": 1
}
