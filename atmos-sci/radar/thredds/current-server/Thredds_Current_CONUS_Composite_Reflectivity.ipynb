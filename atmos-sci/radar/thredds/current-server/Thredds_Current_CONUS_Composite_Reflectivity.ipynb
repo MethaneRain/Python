{
 "cells": [
  {
   "cell_type": "markdown",
   "metadata": {},
   "source": [
    "# THREDDS Server CONUS Composite Radar \n",
    "## Current Month Only"
   ]
  },
  {
   "cell_type": "code",
   "execution_count": 1,
   "metadata": {},
   "outputs": [],
   "source": [
    "from netCDF4 import Dataset\n",
    "from netCDF4 import num2date\n",
    "import glob, os\n",
    "from datetime import datetime, timedelta\n",
    "import matplotlib.pyplot as plt\n",
    "\n",
    "import cartopy.feature as cfeature\n",
    "\n",
    "import cartopy.crs as ccrs\n",
    "\n",
    "import numpy as np\n",
    "\n",
    "import pandas as pd\n",
    "\n",
    "from matplotlib import patheffects\n",
    "\n",
    "from siphon.catalog import TDSCatalog\n",
    "\n",
    "from mpl_toolkits.axes_grid1 import make_axes_locatable\n",
    "from matplotlib.colors import LinearSegmentedColormap"
   ]
  },
  {
   "cell_type": "code",
   "execution_count": 2,
   "metadata": {},
   "outputs": [],
   "source": [
    "refl = pd.read_csv(\"/Users/chowdahead/Documents/refl_cmap.csv\")\n",
    "refl_colors = []\n",
    "for i in range(0,255):\n",
    "    refl_colors.append((float(refl[\"r\"][i]),\n",
    "                               float(refl[\"g\"][i]),\n",
    "                               float(refl[\"b\"][i]),\n",
    "                               float(refl[\"a\"][i])\n",
    "                             ))\n",
    "cmap_name=\"refl\"\n",
    "refl_cmap = LinearSegmentedColormap.from_list(\n",
    "            cmap_name, refl_colors)"
   ]
  },
  {
   "cell_type": "markdown",
   "metadata": {},
   "source": [
    "## THREDDS Catalog Data Access"
   ]
  },
  {
   "cell_type": "code",
   "execution_count": 3,
   "metadata": {},
   "outputs": [
    {
     "name": "stdout",
     "output_type": "stream",
     "text": [
      "Radar Data\n",
      "Unidata THREDDS Data Server - Radar Data\n",
      "Unidata NEXRAD Composite Reflectivity\n"
     ]
    }
   ],
   "source": [
    "top_cat = TDSCatalog('http://thredds.ucar.edu/thredds/catalog.xml')\n",
    "ref = top_cat.catalog_refs['Radar Data']\n",
    "print(ref)\n",
    "new_cat = ref.follow()\n",
    "print(new_cat)\n",
    "model = new_cat.catalog_refs[4]\n",
    "print(model)\n",
    "gfs_cat = model.follow()\n",
    "\n",
    "ds = gfs_cat.datasets[0]"
   ]
  },
  {
   "cell_type": "code",
   "execution_count": 4,
   "metadata": {},
   "outputs": [],
   "source": [
    "def query_reflectivity_radar_data(start,minute_delta=0,hour_delta=0,day_delta=0,\n",
    "                                  west=-122, east=-72, south=23, north=50):\n",
    "    try:\n",
    "        top_cat = TDSCatalog('http://thredds.ucar.edu/thredds/catalog.xml')\n",
    "        ref = top_cat.catalog_refs['Radar Data']\n",
    "\n",
    "        new_cat = ref.follow()\n",
    "        model = new_cat.catalog_refs[4]\n",
    "        gfs_cat = model.follow()\n",
    "\n",
    "        ds = gfs_cat.datasets[0]\n",
    "        subset = ds.subset()\n",
    "        query_data = subset.query()\n",
    "        query_data.lonlat_box(west=west, east=east, south=south, north=north)\n",
    "        \n",
    "        end = start+timedelta(days=day_delta, minutes=minute_delta, hours=hour_delta) \n",
    "        \n",
    "        # Allow for NetCDF files\n",
    "        query_data.accept('netcdf4')\n",
    "        \n",
    "        print(f\"query start time:{start}\")\n",
    "        print(f\"query end time:{end}\")\n",
    "        query_data.time_range(start,end)\n",
    "        query_data.variables('Base_reflectivity_surface_layer').add_lonlat()\n",
    "\n",
    "        # Finally attempt to access the data\n",
    "        data = subset.get_data(query_data)\n",
    "        times = data.variables['time']\n",
    "        lon = data.variables['lon']\n",
    "        lat = data.variables['lat']\n",
    "        print(\"query successful!\")\n",
    "    except:\n",
    "        print(\"query not successful...\")\n",
    "    return data,times,lon,lat"
   ]
  },
  {
   "cell_type": "code",
   "execution_count": 11,
   "metadata": {},
   "outputs": [],
   "source": [
    "def get_radar_vars(data,times,time_index):\n",
    "    time = data.variables['time'][time_index]\n",
    "    print(time)\n",
    "    dtime = num2date(time,times.units)\n",
    "    \n",
    "    title_time = dtime.strftime('%Y-%m-%d %H:%MZ')\n",
    "    print(title_time)\n",
    "    file_time = dtime.strftime('%Y_%m_%d_%H%MZ')\n",
    "    #reflec_data = data.variables['Base_reflectivity_surface_layer'][0]\n",
    "    reflec = data.variables['Base_reflectivity_surface_layer'][time_index]\n",
    "    #reflec = np.ma.masked_where(reflec<10,reflec)\n",
    "    \n",
    "    return title_time,file_time,reflec"
   ]
  },
  {
   "cell_type": "code",
   "execution_count": 20,
   "metadata": {},
   "outputs": [],
   "source": [
    "def make_text_time_right(ax,end,title_time,\n",
    "                         color=\"w\",\n",
    "                       fontsize=8):  \n",
    "    \n",
    "    text_time = ax.text(.995, 0.01, \n",
    "            title_time,\n",
    "            horizontalalignment='right', transform=ax.transAxes,\n",
    "            color=color, fontsize=fontsize, weight='bold',zorder=15)\n",
    "    outline_effect = [patheffects.withStroke(linewidth=3, foreground='black')]\n",
    "    text_time.set_path_effects(outline_effect)\n",
    "    return text_time,ax\n",
    "\n",
    "def make_text_time_left(ax,\n",
    "                        color=\"w\",\n",
    "                       fontsize=8):  \n",
    "    \n",
    "    text_time2 = ax.text(0.005, 0.01, \n",
    "                \"NEXRAD Composite Reflectivity\",\n",
    "                horizontalalignment='left', transform=ax.transAxes,\n",
    "                color=color, fontsize=fontsize, weight='bold',zorder=15)\n",
    "    outline_effect = [patheffects.withStroke(linewidth=3, foreground='black')]\n",
    "    text_time2.set_path_effects(outline_effect)\n",
    "    return text_time2,ax"
   ]
  },
  {
   "cell_type": "code",
   "execution_count": 21,
   "metadata": {},
   "outputs": [],
   "source": [
    "def make_map(data,lon,lat,save_path,time_index,Extent=None):  \n",
    "\n",
    "    title_time,file_time,reflec = get_radar_vars(data,times,time_index=time_index)\n",
    "    reflec = np.ma.masked_where(reflec<10,reflec)\n",
    "    \n",
    "    fig = plt.figure(figsize=(17,11))\n",
    "\n",
    "    # Add state and country boundaries to plot\n",
    "    states_boundaries = cfeature.NaturalEarthFeature(category='cultural',\n",
    "            name='admin_1_states_provinces_lakes',scale='50m', facecolor='none')\n",
    "\n",
    "    country_borders = cfeature.NaturalEarthFeature(category='cultural',\n",
    "            name='admin_0_countries',scale='50m', facecolor='none')\n",
    "\n",
    "    plot_proj = ccrs.LambertConformal(central_latitude=[30, 60], central_longitude=-100)\n",
    "\n",
    "    ax = plt.subplot(111,projection=ccrs.LambertConformal())\n",
    "    \n",
    "    ax.add_feature(states_boundaries,edgecolor='k',linewidth=0.8,linestyle='--',alpha=0.6)\n",
    "    ax.add_feature(country_borders,edgecolor='k',linewidth=0.8)\n",
    "\n",
    "    \n",
    "    ax.coastlines('50m', 'k', linewidth=0.8, zorder=2)\n",
    "    if Extent !=None:\n",
    "        extent = Extent\n",
    "    else:\n",
    "        extent = [-122., -72, 23., 50.]\n",
    "    \n",
    "    ax.set_extent(extent,ccrs.PlateCarree()) \n",
    "    \n",
    "    cmap = refl_cmap\n",
    "    vmin=-40\n",
    "    vmax=84.5\n",
    "    cs = ax.pcolormesh(lon, lat, reflec,cmap=cmap,transform=ccrs.PlateCarree(),vmin=vmin,vmax=vmax)\n",
    "    cbar = plt.colorbar(cs, orientation='horizontal')\n",
    "    posn = ax.get_position()\n",
    "    outline_effect = [patheffects.withStroke(linewidth=3, foreground='k')]\n",
    "    cbar.ax.set_position([posn.x0+0.001, posn.y0-0.001,\n",
    "                            (posn.x1-posn.x0)/2, posn.height])\n",
    "    params = {\n",
    "              \"xtick.color\" : \"k\",\n",
    "              \"ytick.color\" : \"k\",\n",
    "              \"font.size\" : 10,\n",
    "                  }\n",
    "    #plt.rcParams.update(params)\n",
    "    cbar.set_ticks([])\n",
    "    cbar.ax.set_xticklabels([])\n",
    "    ticks = np.arange(-20,80,10)\n",
    "    Y = 23\n",
    "    for count,ele in enumerate(ticks,0): \n",
    "        cbar.ax.text(ele, Y, ticks[count], ha='center', va='center',path_effects=outline_effect,color=\"w\",fontsize=6)\n",
    "    \n",
    "    #ax.background_patch.set_facecolor('k')\n",
    "    make_text_time_right(ax,start,title_time)\n",
    "    make_text_time_left(ax)\n",
    "    \n",
    "    #plt.show()\n",
    "    plt.savefig(f\"{save_path}composite_reflectivity_thredds_{file_time}.png\",bbox_inches=\"tight\",dpi=200)\n",
    "    plt.close(fig)"
   ]
  },
  {
   "cell_type": "code",
   "execution_count": 29,
   "metadata": {},
   "outputs": [],
   "source": [
    "Year = 2020\n",
    "Month = 4\n",
    "Day = 29\n",
    "Hour = 0\n",
    "Min = 5\n",
    "start = datetime(Year,Month,Day,Hour,Min)\n",
    "save_path = \"/Users/chowdahead/Desktop/\""
   ]
  },
  {
   "cell_type": "code",
   "execution_count": 30,
   "metadata": {},
   "outputs": [
    {
     "name": "stdout",
     "output_type": "stream",
     "text": [
      "query successful!\n",
      "CPU times: user 3.39 s, sys: 1.62 s, total: 5.02 s\n",
      "Wall time: 1min 23s\n"
     ]
    }
   ],
   "source": [
    "%%time\n",
    "data,times,lon,lat = query_reflectivity_radar_data(start,minute_delta=50,hour_delta=0,day_delta=0,\n",
    "                                  west=-122, east=-72, south=23, north=50)"
   ]
  },
  {
   "cell_type": "code",
   "execution_count": 31,
   "metadata": {},
   "outputs": [
    {
     "name": "stdout",
     "output_type": "stream",
     "text": [
      "20165.0\n",
      "2020-04-29 00:05Z\n"
     ]
    },
    {
     "name": "stderr",
     "output_type": "stream",
     "text": [
      "/Users/chowdahead/anaconda3/lib/python3.7/site-packages/ipykernel_launcher.py:4: RuntimeWarning: invalid value encountered in less\n",
      "  after removing the cwd from sys.path.\n"
     ]
    },
    {
     "name": "stdout",
     "output_type": "stream",
     "text": [
      "20170.0\n",
      "2020-04-29 00:10Z\n",
      "20175.0\n",
      "2020-04-29 00:15Z\n",
      "20180.0\n",
      "2020-04-29 00:20Z\n",
      "20185.0\n",
      "2020-04-29 00:25Z\n",
      "20190.0\n",
      "2020-04-29 00:30Z\n",
      "20195.0\n",
      "2020-04-29 00:35Z\n",
      "20200.0\n",
      "2020-04-29 00:40Z\n",
      "20205.0\n",
      "2020-04-29 00:45Z\n",
      "20210.0\n",
      "2020-04-29 00:50Z\n",
      "20215.0\n",
      "2020-04-29 00:55Z\n",
      "CPU times: user 11min 52s, sys: 46.6 s, total: 12min 38s\n",
      "Wall time: 18min 43s\n"
     ]
    }
   ],
   "source": [
    "%%time\n",
    "for i in range(len(times)):\n",
    "    make_map(data,lon,lat,save_path,time_index=i,Extent=None)"
   ]
  },
  {
   "cell_type": "code",
   "execution_count": null,
   "metadata": {},
   "outputs": [],
   "source": []
  }
 ],
 "metadata": {
  "kernelspec": {
   "display_name": "Python 3",
   "language": "python",
   "name": "python3"
  },
  "language_info": {
   "codemirror_mode": {
    "name": "ipython",
    "version": 3
   },
   "file_extension": ".py",
   "mimetype": "text/x-python",
   "name": "python",
   "nbconvert_exporter": "python",
   "pygments_lexer": "ipython3",
   "version": "3.7.3"
  }
 },
 "nbformat": 4,
 "nbformat_minor": 2
}
