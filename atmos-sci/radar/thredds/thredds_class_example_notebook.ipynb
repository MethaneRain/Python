{
 "cells": [
  {
   "cell_type": "code",
   "execution_count": 1,
   "metadata": {},
   "outputs": [],
   "source": [
    "import numpy as np"
   ]
  },
  {
   "cell_type": "code",
   "execution_count": 2,
   "metadata": {},
   "outputs": [],
   "source": [
    "import THREDDS_Class_Example as thredds"
   ]
  },
  {
   "cell_type": "code",
   "execution_count": 3,
   "metadata": {},
   "outputs": [],
   "source": [
    "thredds?"
   ]
  },
  {
   "cell_type": "code",
   "execution_count": 4,
   "metadata": {},
   "outputs": [
    {
     "name": "stdout",
     "output_type": "stream",
     "text": [
      "21 2020 5\n"
     ]
    }
   ],
   "source": [
    "td = thredds.THREDDS_Models()"
   ]
  },
  {
   "cell_type": "code",
   "execution_count": 5,
   "metadata": {},
   "outputs": [
    {
     "data": {
      "text/plain": [
       "{'Model:{Product:url extension}': '',\n",
       " 'RAP': {'13km': 'CONUS_13km/RR_CONUS_13km',\n",
       "  '20km': 'CONUS_20km/RR_CONUS_20km',\n",
       "  '40km': 'CONUS_40km/RR_CONUS_40km'},\n",
       " 'GFS': {'0p25_ana': 'Global_0p25deg_ana/GFS_Global_0p25deg_ana',\n",
       "  '0p25': 'Global_0p25deg/GFS_Global_0p25deg',\n",
       "  '0p5_ana': 'Global_0p5deg_ana/GFS_Global_0p5deg_ana',\n",
       "  '0p5': 'Global_0p5deg/GFS_Global_0p5deg',\n",
       "  'onedeg_ana': 'Global_onedeg_ana/GFS_Global_onedeg_ana',\n",
       "  'onedeg': 'Global_onedeg/GFS_Global_onedeg',\n",
       "  'Pac_20km': 'Pacific_20km/GFS_Pacific_20km',\n",
       "  'PR_0p25': 'Puerto_Rico_0p25deg/GFS_Puerto_Rico_0p25deg',\n",
       "  'CONUS_95km': 'CONUS_95km/GFS_CONUS_95km',\n",
       "  'CONUS_80km': 'CONUS_80km/GFS_CONUS_80km',\n",
       "  'CONUS_20km': 'CONUS_20km/GFS_CONUS_20km',\n",
       "  'AK_20km': 'Alaska_20km/GFS_Alaska_20km'},\n",
       " 'HRRR': {'CONUS_3km': 'CONUS_3km/surface/HRRR_CONUS_3km',\n",
       "  'CONUS_2p5km_ana': 'CONUS_2p5km_ANA/HRRR_CONUS_2p5km_ana',\n",
       "  'CONUS_2p5km': 'CONUS_2p5km/HRRR_CONUS_2p5km'},\n",
       " 'GEFS': {'onedeg_ana': 'Global_1p0deg_Ensemble/members-analysis/GEFS_Global_1p0deg_Ensemble_ana',\n",
       "  'onedeg': 'Global_1p0deg_Ensemble/members/GEFS_Global_1p0deg_Ensemble',\n",
       "  'onedeg_derived': 'Global_1p0deg_Ensemble/derived/GEFS_Global_1p0deg_Ensemble_derived'}}"
      ]
     },
     "execution_count": 5,
     "metadata": {},
     "output_type": "execute_result"
    }
   ],
   "source": [
    "td.model_dict"
   ]
  },
  {
   "cell_type": "code",
   "execution_count": 6,
   "metadata": {},
   "outputs": [
    {
     "name": "stdout",
     "output_type": "stream",
     "text": [
      "20 2020 5\n"
     ]
    }
   ],
   "source": [
    "td.change_run_time(2020,5,20,\"0000\")"
   ]
  },
  {
   "cell_type": "code",
   "execution_count": 7,
   "metadata": {},
   "outputs": [
    {
     "name": "stdout",
     "output_type": "stream",
     "text": [
      "http://thredds-jetstream.unidata.ucar.edu/thredds/ncss/grib/NCEP/HRRR/CONUS_2p5km_ANA/HRRR_CONUS_2p5km_ana_20200520_0000.grib2/dataset.html\n"
     ]
    }
   ],
   "source": [
    "td.get_var_info(\"HRRR\",'CONUS_2p5km_ana')"
   ]
  },
  {
   "cell_type": "code",
   "execution_count": 8,
   "metadata": {},
   "outputs": [
    {
     "name": "stdout",
     "output_type": "stream",
     "text": [
      "0000\n",
      "MSLP_Eta_model_reduction_msl\n",
      "2020-05-20 00:00:00\n",
      "60 20 -70 -120\n",
      "Data grab complete!\n"
     ]
    }
   ],
   "source": [
    "file_data = td.get_model_data(\"GFS\", \"CONUS_20km\", \"MSLP_Eta_model_reduction_msl\", latlon=None)"
   ]
  },
  {
   "cell_type": "code",
   "execution_count": 9,
   "metadata": {},
   "outputs": [],
   "source": [
    "# Set the font \n",
    "font = {'family': 'serif',\n",
    "        'color':  'darkred',\n",
    "        'weight': 'normal',\n",
    "        'size': 18,\n",
    "        }"
   ]
  },
  {
   "cell_type": "code",
   "execution_count": 10,
   "metadata": {},
   "outputs": [],
   "source": [
    "time_var,time_final = td.get_time(file_data)"
   ]
  },
  {
   "cell_type": "code",
   "execution_count": 11,
   "metadata": {},
   "outputs": [
    {
     "name": "stdout",
     "output_type": "stream",
     "text": [
      "[-120, -70, 20, 55]\n"
     ]
    }
   ],
   "source": [
    "td.change_map_attrs([-120,-70,20,55],cmap=\"cubehelix\",clevs=np.arange(980,1040,4),colors=None)"
   ]
  },
  {
   "cell_type": "code",
   "execution_count": 12,
   "metadata": {},
   "outputs": [],
   "source": [
    "td.change_im_save_path(\"~/saved_images/\")"
   ]
  },
  {
   "cell_type": "code",
   "execution_count": 13,
   "metadata": {
    "scrolled": false
   },
   "outputs": [
    {
     "ename": "NameError",
     "evalue": "name 'lats' is not defined",
     "output_type": "error",
     "traceback": [
      "\u001b[0;31m---------------------------------------------------------------------------\u001b[0m",
      "\u001b[0;31mNameError\u001b[0m                                 Traceback (most recent call last)",
      "\u001b[0;32m<ipython-input-13-8a928006f31f>\u001b[0m in \u001b[0;36m<module>\u001b[0;34m\u001b[0m\n\u001b[1;32m      1\u001b[0m td.make_map(file_data.variables[\"MSLP_Eta_model_reduction_msl\"][:]/100,\n\u001b[0;32m----> 2\u001b[0;31m              5,lats,lons,font,\"MSLP Eta Model\",\"MSLP\",contourfill=False)\n\u001b[0m",
      "\u001b[0;31mNameError\u001b[0m: name 'lats' is not defined"
     ]
    }
   ],
   "source": [
    "td.make_map(file_data.variables[\"MSLP_Eta_model_reduction_msl\"][:]/100,\n",
    "             5,font,\"MSLP Eta Model\",\"MSLP\",contourfill=False)"
   ]
  },
  {
   "cell_type": "code",
   "execution_count": null,
   "metadata": {},
   "outputs": [],
   "source": [
    "td.im_save_path"
   ]
  },
  {
   "cell_type": "code",
   "execution_count": null,
   "metadata": {},
   "outputs": [],
   "source": [
    "td.init_hour"
   ]
  },
  {
   "cell_type": "code",
   "execution_count": null,
   "metadata": {},
   "outputs": [],
   "source": [
    "td.model"
   ]
  },
  {
   "cell_type": "code",
   "execution_count": null,
   "metadata": {},
   "outputs": [],
   "source": [
    "td.init_date_title, td.init_hour_title"
   ]
  },
  {
   "cell_type": "code",
   "execution_count": null,
   "metadata": {},
   "outputs": [],
   "source": [
    "td.file_time"
   ]
  },
  {
   "cell_type": "code",
   "execution_count": null,
   "metadata": {},
   "outputs": [],
   "source": [
    "td.change_run_time?"
   ]
  },
  {
   "cell_type": "code",
   "execution_count": null,
   "metadata": {},
   "outputs": [],
   "source": []
  }
 ],
 "metadata": {
  "kernelspec": {
   "display_name": "Python 3",
   "language": "python",
   "name": "python3"
  },
  "language_info": {
   "codemirror_mode": {
    "name": "ipython",
    "version": 3
   },
   "file_extension": ".py",
   "mimetype": "text/x-python",
   "name": "python",
   "nbconvert_exporter": "python",
   "pygments_lexer": "ipython3",
   "version": "3.7.6"
  }
 },
 "nbformat": 4,
 "nbformat_minor": 2
}
