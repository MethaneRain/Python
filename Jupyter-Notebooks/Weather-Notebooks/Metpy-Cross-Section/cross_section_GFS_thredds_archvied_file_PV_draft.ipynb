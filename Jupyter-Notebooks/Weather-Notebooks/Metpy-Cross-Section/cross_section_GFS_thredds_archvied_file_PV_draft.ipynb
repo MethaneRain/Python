{
 "cells": [
  {
   "cell_type": "code",
   "execution_count": null,
   "metadata": {},
   "outputs": [],
   "source": [
    "print(\"Need to download the .nc files via NCSS at:\",\"\\n\",\"http://thredds.ucar.edu/thredds/ncss/grib/NCEP/GFS/Global_0p25deg/GFS_Global_0p25deg_YYYMMDD_FFFF.grib2/dataset.html\")\n",
    "print(\"Example:\",\"\\n\",\"http://thredds.ucar.edu/thredds/ncss/grib/NCEP/GFS/Global_0p25deg/GFS_Global_0p25deg_20190910_0000.grib2/dataset.html\")\n"
   ]
  },
  {
   "cell_type": "markdown",
   "metadata": {},
   "source": [
    "\n",
    "# Cross Section Analysis\n",
    "\n",
    "\n",
    "The MetPy function `metpy.interpolate.cross_section` can obtain a cross-sectional slice through\n",
    "gridded data.\n",
    "\n"
   ]
  },
  {
   "cell_type": "code",
   "execution_count": 1,
   "metadata": {},
   "outputs": [
    {
     "name": "stderr",
     "output_type": "stream",
     "text": [
      "/Users/chowdahead/anaconda3/lib/python3.7/site-packages/distributed/utils.py:139: RuntimeWarning: Couldn't detect a suitable IP address for reaching '8.8.8.8', defaulting to '127.0.0.1': [Errno 51] Network is unreachable\n",
      "  RuntimeWarning,\n"
     ]
    }
   ],
   "source": [
    "from metpy.plots import ctables\n",
    "mycmap = ctables.registry.get_colortable(\"NWSReflectivity\")"
   ]
  },
  {
   "cell_type": "code",
   "execution_count": 2,
   "metadata": {},
   "outputs": [],
   "source": [
    "import cartopy.crs as ccrs\n",
    "import cartopy.feature as cfeature\n",
    "import matplotlib.pyplot as plt\n",
    "import numpy as np\n",
    "import xarray as xr\n",
    "#import pygrib as pg\n",
    "import metpy.calc as mpcalc\n",
    "from metpy.cbook import get_test_data\n",
    "from metpy.interpolate import cross_section\n",
    "# Importing Datetime Libraries\n",
    "from datetime import datetime, timedelta\n",
    "from netCDF4 import num2date\n",
    "from netCDF4 import Dataset\n",
    "from matplotlib import patheffects\n",
    "#import Hi_Lo\n",
    "import glob, re"
   ]
  },
  {
   "cell_type": "code",
   "execution_count": 3,
   "metadata": {},
   "outputs": [],
   "source": [
    "from copy import copy\n",
    "\n",
    "%matplotlib inline\n",
    "import cartopy.crs as ccrs\n",
    "from cartopy.mpl.gridliner import LATITUDE_FORMATTER, LONGITUDE_FORMATTER\n",
    "import matplotlib.pyplot as plt\n",
    "import numpy as np\n",
    "import shapely.geometry as sgeom"
   ]
  },
  {
   "cell_type": "code",
   "execution_count": 4,
   "metadata": {},
   "outputs": [],
   "source": [
    "def find_side(ls, side):\n",
    "    \"\"\"\n",
    "    Given a shapely LineString which is assumed to be rectangular, return the\n",
    "    line corresponding to a given side of the rectangle.\n",
    "    \n",
    "    \"\"\"\n",
    "    minx, miny, maxx, maxy = ls.bounds\n",
    "    points = {'left': [(minx, miny), (minx, maxy)],\n",
    "              'right': [(maxx, miny), (maxx, maxy)],\n",
    "              'bottom': [(minx, miny), (maxx, miny)],\n",
    "              'top': [(minx, maxy), (maxx, maxy)],}\n",
    "    return sgeom.LineString(points[side])\n",
    "\n",
    "\n",
    "def lambert_xticks(ax, ticks):\n",
    "    \"\"\"Draw ticks on the bottom x-axis of a Lambert Conformal projection.\"\"\"\n",
    "    te = lambda xy: xy[0]\n",
    "    lc = lambda t, n, b: np.vstack((np.zeros(n) + t, np.linspace(b[2], b[3], n))).T\n",
    "    xticks, xticklabels = _lambert_ticks(ax, ticks, 'bottom', lc, te)\n",
    "    ax.xaxis.tick_bottom()\n",
    "    ax.set_xticks(xticks)\n",
    "    ax.set_xticklabels([ax.xaxis.get_major_formatter()(xtick) for xtick in xticklabels])\n",
    "    \n",
    "\n",
    "def lambert_yticks(ax, ticks):\n",
    "    \"\"\"Draw ricks on the left y-axis of a Lamber Conformal projection.\"\"\"\n",
    "    te = lambda xy: xy[1]\n",
    "    lc = lambda t, n, b: np.vstack((np.linspace(b[0], b[1], n), np.zeros(n) + t)).T\n",
    "    yticks, yticklabels = _lambert_ticks(ax, ticks, 'left', lc, te)\n",
    "    ax.yaxis.tick_left()\n",
    "    ax.set_yticks(yticks)\n",
    "    ax.set_yticklabels([ax.yaxis.get_major_formatter()(ytick) for ytick in yticklabels])\n",
    "\n",
    "def _lambert_ticks(ax, ticks, tick_location, line_constructor, tick_extractor):\n",
    "    \"\"\"Get the tick locations and labels for an axis of a Lambert Conformal projection.\"\"\"\n",
    "    outline_patch = sgeom.LineString(ax.outline_patch.get_path().vertices.tolist())\n",
    "    axis = find_side(outline_patch, tick_location)\n",
    "    n_steps = 30\n",
    "    extent = ax.get_extent(ccrs.PlateCarree())\n",
    "    _ticks = []\n",
    "    for t in ticks:\n",
    "        xy = line_constructor(t, n_steps, extent)\n",
    "        proj_xyz = ax.projection.transform_points(ccrs.Geodetic(), xy[:, 0], xy[:, 1])\n",
    "        xyt = proj_xyz[..., :2]\n",
    "        ls = sgeom.LineString(xyt.tolist())\n",
    "        locs = axis.intersection(ls)\n",
    "        if not locs:\n",
    "            tick = [None]\n",
    "        else:\n",
    "            tick = tick_extractor(locs.xy)\n",
    "        _ticks.append(tick[0])\n",
    "    # Remove ticks that aren't visible:    \n",
    "    ticklabels = copy(ticks)\n",
    "    while True:\n",
    "        try:\n",
    "            index = _ticks.index(None)\n",
    "        except ValueError:\n",
    "            break\n",
    "        _ticks.pop(index)\n",
    "        ticklabels.pop(index)\n",
    "    return _ticks, ticklabels"
   ]
  },
  {
   "cell_type": "markdown",
   "metadata": {},
   "source": [
    "# PV will be difficult because unlike the other variables, it doens't have a vertical coordinate like isobaric4, or something...."
   ]
  },
  {
   "cell_type": "code",
   "execution_count": 5,
   "metadata": {},
   "outputs": [],
   "source": [
    "# Set the font \n",
    "font = {'family': 'serif',\n",
    "        'color':  'darkred',\n",
    "        'weight': 'normal',\n",
    "        'size': 18,\n",
    "        }"
   ]
  },
  {
   "cell_type": "code",
   "execution_count": null,
   "metadata": {},
   "outputs": [],
   "source": []
  },
  {
   "cell_type": "code",
   "execution_count": 47,
   "metadata": {},
   "outputs": [],
   "source": [
    "def Var_Cross(Variable,Year,Month,Day,Step,start,end,Radar=False,inset=False,Grids=False,\n",
    "              inset_dims=None,Extent=None,Data=None,File=None):\n",
    "    \n",
    "    \n",
    "    \n",
    "    # Define the figure object and primary axes\n",
    "    fig = plt.figure(1, figsize=(16., 9.))\n",
    "    ax = plt.axes()\n",
    "\n",
    "    if Data !=None:\n",
    "        data = Data\n",
    "    \n",
    "    if File !=None:\n",
    "        data = xr.open_dataset(File)    \n",
    "        data = data.metpy.parse_cf().squeeze()\n",
    "        \n",
    "    if Variable == \"Pressure_potential_vorticity_surface\":\n",
    "        Variable = \"Pressure_potential_vorticity_surface2\"\n",
    "        var_levs = np.arange(0,3e-06,2e-06)\n",
    "        print(\"AHHHHHHH\")\n",
    "        iso_lev = \"vert_levs\"\n",
    "        my_cmap = \"jet_r\"\n",
    "    \n",
    "    if Variable == 'Relative_humidity_isobaric':\n",
    "        var_levs = np.arange(0,120,1)\n",
    "        iso_lev = 'isobaric'\n",
    "        my_cmap = \"BrBG\"\n",
    "    \n",
    "    if Variable == 'Temperature_isobaric':\n",
    "        var_levs = np.arange(200, 330, 5)\n",
    "        iso_lev = 'isobaric4'\n",
    "        my_cmap = \"nipy_spectral\"\n",
    "        \n",
    "    if Variable == 'Vertical_velocity_pressure_isobaric':\n",
    "        var_levs = 30\n",
    "        iso_lev = 'isobaric6'\n",
    "        my_cmap = 'PuOr_r'\n",
    "    \n",
    "    var_dict = {'Temperature_isobaric':\"Temp\",'Relative_humidity_isobaric':\"RH\",\n",
    "                'Vertical_velocity_pressure_isobaric':\"Omega\",\n",
    "               \"Pressure_potential_vorticity_surface2\":\"PV\"}\n",
    "    \n",
    "    \n",
    "    \n",
    "    \n",
    "    \n",
    "    \n",
    "    cross = cross_section(data, start, end).set_coords(('lat', 'lon'))\n",
    "    cross.set_coords(('lat', 'lon'), True)\n",
    "    #print(cross['isobaric'])\n",
    "    temperature, pressure = xr.broadcast(cross['Temperature_isobaric'],cross['isobaric4'])\n",
    "\n",
    "    theta = mpcalc.potential_temperature(pressure, temperature)\n",
    "    #rh = mpcalc.relative_humidity_from_specific_humidity(specific_humidity, temperature, pressure)\n",
    "\n",
    "    # These calculations return unit arrays, so put those back into DataArrays in our Dataset\n",
    "    cross['Potential_temperature'] = xr.DataArray(theta,\n",
    "                                                  coords=temperature.coords,\n",
    "                                                  dims=temperature.dims,\n",
    "                                                  attrs={'units': theta.units})\n",
    "    #cross['Relative_humidity'] = xr.DataArray(rh,\n",
    "    #                                          coords=specific_humidity.coords,\n",
    "    #                                          dims=specific_humidity.dims,\n",
    "    #                                          attrs={'units': rh.units})\n",
    "\n",
    "    cross['u-component_of_wind_isobaric'].metpy.convert_units('knots')\n",
    "    cross['v-component_of_wind_isobaric'].metpy.convert_units('knots')\n",
    "    cross['t_wind'], cross['n_wind'] = mpcalc.cross_section_components(cross['u-component_of_wind_isobaric'],\n",
    "                                                                       cross['v-component_of_wind_isobaric'])\n",
    "    #cross['dew'] =  xr.broadcast(cross['Geopotential_height_potential_vorticity_surface'])\n",
    "    #print(cross)\n",
    "\n",
    "\n",
    "    # Plot potential temperature using contour, with some custom labeling\n",
    "    #theta_contour = ax.contour(lons, cross['isobaric'], cross['Potential_temperature'][0,:,:],\n",
    "    #                           levels=np.arange(250, 450, 5), colors='k', linewidths=2)\n",
    "    \n",
    "    print(iso_lev)\n",
    "    if Variable == \"Pressure_potential_vorticity_surface2\":\n",
    "        #contour = ax.scatter(cross['lon'], cross[iso_lev], cross[Variable][Step,:],\n",
    "        #                    cmap=my_cmap,alpha=0.7)\n",
    "        contour = ax.contourf(cross['lon'], cross[iso_lev], cross[Variable][Step,:],\n",
    "                            cmap=my_cmap,levels=var_levs,alpha=0.7)\n",
    "        \n",
    "    else:\n",
    "        contour = ax.contourf(cross['lon'], cross[iso_lev], cross[Variable][Step,:],\n",
    "                            cmap=my_cmap,levels=var_levs,alpha=0.7)\n",
    "        cbar = plt.colorbar(contour, orientation='vertical',pad=0.004)#,cax=cbaxes)\n",
    "    \n",
    "    #'isobaric4'\n",
    "    theta_contour = ax.contour(cross['lon'], cross['isobaric4'], cross['Potential_temperature'][Step,:,:],\n",
    "                               levels=np.arange(250, 850, 3), colors='k', linewidths=2)\n",
    "\n",
    "\n",
    "    # Colorbar Axis Placement (under figure)\n",
    "    #colorbar_axis = [0.183, 0.09, 0.659, 0.03] # [left, bottom, width, height]\n",
    "    #cbaxes = fig.add_axes(colorbar_axis)\n",
    "\n",
    "\n",
    "    # Plot winds using the axes interface directly, with some custom indexing to make the barbs\n",
    "    # less crowded\n",
    "    wind_slc_vert = list(range(0, 19, 2)) + list(range(19, 29))\n",
    "    wind_slc_horz = slice(5, 100, 5)\n",
    "    #ax.barbs(cross['lon'][wind_slc_horz], cross['isobaric'][wind_slc_vert],\n",
    "    #         cross['t_wind'][Step,:,:][wind_slc_vert, wind_slc_horz],\n",
    "    #         cross['n_wind'][Step,:,:][wind_slc_vert, wind_slc_horz], color='b')\n",
    "\n",
    "    # Adjust the y-axis to be logarithmic\n",
    "    #ax.set_yscale('symlog')\n",
    "    plt.yscale('log')\n",
    "    #ax.set_yticklabels(np.arange(1000, 50, -100))\n",
    "    #ax.set_ylim(cross['isobaric'].max(), cross['isobaric'].min())\n",
    "    ax.set_ylim(cross['isobaric'].max(), cross['isobaric'][10])\n",
    "\n",
    "\n",
    "    if inset == True:\n",
    "    ##############################################################################################################\n",
    "    # Insert\n",
    "    ##############################################################################################################\n",
    "\n",
    "        # Define the CRS and inset axes\n",
    "        data_crs = data[Variable].metpy.cartopy_crs\n",
    "        print(data_crs)\n",
    "        #4-tuple of floats *rect* = ``[left, bottom, width, height]\n",
    "        if inset_dims !=None:\n",
    "            ax_inset = plt.axes(inset_dims, projection=ccrs.LambertConformal())\n",
    "        else:\n",
    "\n",
    "            ax_inset = plt.axes((0.02, 0.58, 0.23, 0.2), projection=ccrs.PlateCarree())\n",
    "        #ax_inset = fig.add_axes([0.125, 0.665, 0.25, 0.25], projection=data_crs)\n",
    "\n",
    "        plot_proj = ccrs.LambertConformal(central_latitude=[30, 60], central_longitude=-100)\n",
    "        if Grids == True:\n",
    "            # *must* call draw in order to get the axis boundary used to add ticks:\n",
    "            fig.canvas.draw()\n",
    "\n",
    "            # Define gridline locations and draw the lines using cartopy's built-in gridliner:\n",
    "            xticks = [np.arange(-180,180)]\n",
    "            yticks = [np.arange(0,90)]\n",
    "            ax_inset.gridlines(xlocs=xticks, ylocs=yticks)\n",
    "\n",
    "            # Label the end-points of the gridlines using the custom tick makers:\n",
    "            ax_inset.xaxis.set_major_formatter(LONGITUDE_FORMATTER) \n",
    "            ax_inset.yaxis.set_major_formatter(LATITUDE_FORMATTER)\n",
    "            #lambert_xticks(ax, xticks)\n",
    "            #lambert_yticks(ax, yticks)\n",
    "\n",
    "            #gl = ax_inset.gridlines(draw_labels=True,crs=ccrs.LambertConformal())\n",
    "            #gl.xlabels_top = gl.ylabels_right = False\n",
    "            #gl.xformatter = LONGITUDE_FORMATTER\n",
    "            #gl.yformatter = LATITUDE_FORMATTER\n",
    "            \n",
    "            \n",
    "            # Plot geopotential height at 500 hPa using xarray's contour wrapper\n",
    "            ax_inset.contour(data['lon'], data[\"lat\"], data['Geopotential_height_isobaric'][Step,21,:,:],\n",
    "                             levels=np.arange(5100, 6000, 40), colors='k',transform=data_crs,alpha=0.8)\n",
    "\n",
    "\n",
    "\n",
    "            # Plot the path of the cross section\n",
    "            endpoints = data_crs.transform_points(ccrs.LambertConformal(),\n",
    "                            *np.vstack([start, end])) #\n",
    "\n",
    "            #print(endpoints)\n",
    "            #print(cross['lon'][0],cross['lon'][-1],cross['lat'][-1],cross['lat'][0])\n",
    "\n",
    "            ax_inset.scatter(cross['lon'][0],cross['lat'][0], c='r', zorder=15,transform=data_crs,marker='$S$',s=50)\n",
    "            ax_inset.scatter(cross['lon'][-1],cross['lat'][-1], c='r', zorder=15,transform=data_crs,marker='$E$',s=50)\n",
    "            #ax_inset.scatter(259.5,37.25, c='b', zorder=1,transform=data_crs)\n",
    "            ax_inset.plot(cross['lon'], cross['lat'], c='r', zorder=2,transform=data_crs)\n",
    "\n",
    "            # Add geographic features\n",
    "            ax_inset.coastlines()\n",
    "            ax_inset.add_feature(cfeature.STATES.with_scale('50m'), edgecolor='b', alpha=0.8, zorder=0)\n",
    "\n",
    "            #extent = [-130,-60,20,52]\n",
    "            #extent = [start[1]+10,end[1]-10,start[0]-5,end[0]+5]\n",
    "            if Extent !=None:\n",
    "                extent = Extent\n",
    "            else:\n",
    "                extent = [start[1]+10,end[1]-15,start[0]-10,end[0]+15]\n",
    "            ax_inset.set_extent(extent,ccrs.PlateCarree())\n",
    "\n",
    "    if Radar == True:\n",
    "        from siphon.catalog import TDSCatalog\n",
    "        top_cat = TDSCatalog('http://thredds.ucar.edu/thredds/catalog.xml')\n",
    "        ref = top_cat.catalog_refs['Radar Data']\n",
    "\n",
    "        new_cat = ref.follow()\n",
    "        model = new_cat.catalog_refs[4]\n",
    "        gfs_cat = model.follow()\n",
    "\n",
    "        ds = gfs_cat.datasets[0]\n",
    "        subset = ds.subset()\n",
    "        query_data = subset.query()\n",
    "\n",
    "        from datetime import datetime, timedelta\n",
    "        now = datetime(Year,Month,Day,Step*3,0)\n",
    "        query_data.accept('netcdf4')\n",
    "        query_data.time(now)\n",
    "        query_data.variables('Base_reflectivity_surface_layer').add_lonlat()\n",
    "\n",
    "        radar_data = subset.get_data(query_data)\n",
    "\n",
    "        time = radar_data.variables['time']\n",
    "        lon = radar_data.variables['lon']\n",
    "        lat = radar_data.variables['lat']\n",
    "        dtime = num2date(time[:],time.units)\n",
    "        X = radar_data.variables['x'][:]\n",
    "        Y = radar_data.variables['y'][:]\n",
    "\n",
    "        Time = dtime[0].strftime('%Y-%m-%d %H:%MZ')\n",
    "        reflec_data = radar_data.variables['Base_reflectivity_surface_layer']\n",
    "        reflec = radar_data.variables['Base_reflectivity_surface_layer'][:]\n",
    "        reflec = np.ma.masked_where(reflec < 9,reflec)\n",
    "\n",
    "        RADAR_levs = np.arange(0,75,1)\n",
    "    \n",
    "        cs = ax_inset.pcolormesh(lon[:], lat[:], reflec[0,:,:], cmap=mycmap,transform=plot_proj,vmin=0, vmax=75)\n",
    "        #cbar = plt.colorbar(cs, orientation='vertical',pad=0.005,aspect=50)\n",
    "        text_time = ax_inset.text(.995, 0.01, \n",
    "                    Time,\n",
    "                    horizontalalignment='right', transform=ax_inset.transAxes,\n",
    "                    color='w', fontsize=12, weight='bold')\n",
    "\n",
    "        text_time2 = ax_inset.text(0.005, 0.01, \n",
    "                        \"NWS Radar (dbz) & 500mb Heights\",\n",
    "                        horizontalalignment='left', transform=ax_inset.transAxes,\n",
    "                        color='w', fontsize=12, weight='bold')\n",
    "\n",
    "        outline_effect = [patheffects.withStroke(linewidth=5, foreground='k')]\n",
    "        text_time.set_path_effects(outline_effect)\n",
    "        text_time2.set_path_effects(outline_effect)\n",
    "    \n",
    "\n",
    "\n",
    "\n",
    "    #Hi_Lo.plot_maxmin_points(ax_inset,data['lon'], data['lat'], data['MSLP_Eta_model_reduction_msl']/100., 'max', \n",
    "    #                         50, symbol='H', color='b',  transform=data_crs)\n",
    "\n",
    "    #Hi_Lo.plot_maxmin_points(ax_inset,data['lon'], data['lat'], data['MSLP_Eta_model_reduction_msl']/100., 'min', \n",
    "    #                         25, symbol='L', color='r', transform=data_crs)\n",
    "\n",
    "        # Set the titles and axes labels\n",
    "    #ax_inset.set_title('NWS Radar (dbz) and 500mb Heights')\n",
    "    #ax.set_title('NARR Cross-Section \\u2013 {} to {} \\u2013 Valid: {}\\n'\n",
    "    #             'Potential Temperature (K), Tangential/Normal Winds (knots), '\n",
    "    #             'Relative Humidity (dimensionless)\\n'\n",
    "    #             'Inset: Cross-Section Path and 500 hPa Geopotential Height'.format(\n",
    "    #                 start, end, cross['time'].dt.strftime('%Y-%m-%d %H:%MZ').item()))\n",
    "    ax.set_ylabel('Pressure (Pa)')\n",
    "    ax.set_xlabel('Longitude (degrees east)')\n",
    "\n",
    "    time = data.variables[\"time2\"]\n",
    "    print(time.values)\n",
    "\n",
    "    #type(time.values)\n",
    "    time.values.tolist()\n",
    "    time.values[Step].astype('datetime64[s]')\n",
    "    TIME = time.values[Step].astype('datetime64[s]').tolist()\n",
    "    #type(TIME)\n",
    "    file_time = '{0:%Y_%m_%d_%H:%MZ}'.format(TIME)\n",
    "\n",
    "    ax.set_title(\"GFS: Theta and \"+var_dict[Variable]+\" Cross Section \"+\"{0:%Y-%m-%d %H:%MZ}\".format(TIME))\n",
    "\n",
    "    fig.savefig(\"/Users/chowdahead/Desktop/\"+var_dict[Variable]+\"_cross\"+file_time.replace(\":\",\"\")+\"Z.png\",bbox_inches='tight',dpi=120)\n",
    "    plt.close(fig)\n",
    "    #plt.show()"
   ]
  },
  {
   "cell_type": "code",
   "execution_count": 71,
   "metadata": {},
   "outputs": [],
   "source": [
    "File = 'GFS_Global_0p25deg_20190916_1200.grib2.nc'\n",
    "#File = 'GFS_Global_0p5deg_20190522_0000.grib2.nc'\n",
    "File = \"GFS_Global_0p25deg_20190916_1200.grib2.nc\"\n",
    "data = xr.open_dataset(File)\n",
    "\n",
    "data = data.metpy.parse_cf().squeeze()\n",
    "\n",
    "#for var in data:\n",
    "#    print(var)\n",
    "#type(data)\n",
    "#data"
   ]
  },
  {
   "cell_type": "code",
   "execution_count": 46,
   "metadata": {},
   "outputs": [
    {
     "data": {
      "text/plain": [
       "['time2',\n",
       " 'lat',\n",
       " 'lon',\n",
       " 'crs',\n",
       " 'MSLP_Eta_model_reduction_msl',\n",
       " 'LatLon_Projection',\n",
       " 'isobaric',\n",
       " 'Relative_humidity_isobaric',\n",
       " 'u-component_of_wind_isobaric',\n",
       " 'v-component_of_wind_isobaric',\n",
       " 'isobaric4',\n",
       " 'Geopotential_height_isobaric',\n",
       " 'Temperature_isobaric',\n",
       " 'isobaric6',\n",
       " 'Vertical_velocity_pressure_isobaric',\n",
       " 'potential_vorticity_surface',\n",
       " 'Pressure_potential_vorticity_surface',\n",
       " 'vert_levs',\n",
       " 'Pressure_potential_vorticity_surface2']"
      ]
     },
     "execution_count": 46,
     "metadata": {},
     "output_type": "execute_result"
    }
   ],
   "source": [
    "list(data.variables)"
   ]
  },
  {
   "cell_type": "code",
   "execution_count": 9,
   "metadata": {},
   "outputs": [
    {
     "data": {
      "text/plain": [
       "['time2',\n",
       " 'lat',\n",
       " 'lon',\n",
       " 'crs',\n",
       " 'MSLP_Eta_model_reduction_msl',\n",
       " 'LatLon_Projection',\n",
       " 'isobaric',\n",
       " 'Relative_humidity_isobaric',\n",
       " 'u-component_of_wind_isobaric',\n",
       " 'v-component_of_wind_isobaric',\n",
       " 'isobaric4',\n",
       " 'Geopotential_height_isobaric',\n",
       " 'Temperature_isobaric',\n",
       " 'isobaric6',\n",
       " 'Vertical_velocity_pressure_isobaric',\n",
       " 'potential_vorticity_surface',\n",
       " 'Pressure_potential_vorticity_surface']"
      ]
     },
     "execution_count": 9,
     "metadata": {},
     "output_type": "execute_result"
    }
   ],
   "source": [
    "list(data.variables)"
   ]
  },
  {
   "cell_type": "code",
   "execution_count": 72,
   "metadata": {},
   "outputs": [
    {
     "name": "stdout",
     "output_type": "stream",
     "text": [
      "<xarray.IndexVariable 'time2' (time2: 2)>\n",
      "array(['2019-09-16T15:00:00.000000000', '2019-09-16T18:00:00.000000000'],\n",
      "      dtype='datetime64[ns]')\n",
      "Attributes:\n",
      "    standard_name:        time\n",
      "    long_name:            GRIB forecast or observation time\n",
      "    _CoordinateAxisType:  Time\n"
     ]
    }
   ],
   "source": [
    "time = data.variables[\"time2\"][:]\n",
    "#print(time.values,len(time.values))\n",
    "print(time)"
   ]
  },
  {
   "cell_type": "code",
   "execution_count": 73,
   "metadata": {},
   "outputs": [],
   "source": [
    "vert_levs = np.arange(20000,100000,1000)"
   ]
  },
  {
   "cell_type": "code",
   "execution_count": 74,
   "metadata": {},
   "outputs": [
    {
     "data": {
      "text/plain": [
       "(2, 141, 241)"
      ]
     },
     "execution_count": 74,
     "metadata": {},
     "output_type": "execute_result"
    }
   ],
   "source": [
    "data[\"Pressure_potential_vorticity_surface\"][:,1,:,:].shape"
   ]
  },
  {
   "cell_type": "code",
   "execution_count": 133,
   "metadata": {},
   "outputs": [
    {
     "name": "stdout",
     "output_type": "stream",
     "text": [
      "<class 'netCDF4._netCDF4.Dataset'>\n",
      "root group (NETCDF4 data model, file format HDF5):\n",
      "    Originating_or_generating_Center: US National Weather Service, National Centres for Environmental Prediction (NCEP)\n",
      "    Originating_or_generating_Subcenter: 0\n",
      "    GRIB_table_version: 2,1\n",
      "    Type_of_generating_process: Forecast\n",
      "    Analysis_or_forecast_generating_process_identifier_defined_by_originating_centre: Analysis from GFS (Global Forecast System)\n",
      "    Conventions: CF-1.6\n",
      "    history: Read using CDM IOSP GribCollection v3\n",
      "    featureType: GRID\n",
      "    History: Translated to CF-1.0 Conventions by Netcdf-Java CDM (CFGridWriter2)\n",
      "Original Dataset = /data/ldm/pub/native/grid/NCEP/GFS/CONUS_20km/GFS_CONUS_20km_20200116_0000.grib2.ncx3#LambertConformal_257X369-40p69N-100p4W; Translation Date = 2020-01-16T23:47:49.013Z\n",
      "    geospatial_lat_min: 19.913055968940412\n",
      "    geospatial_lat_max: 57.335950219792934\n",
      "    geospatial_lon_min: -145.74526112705217\n",
      "    geospatial_lon_max: -49.20529767978462\n",
      "    dimensions(sizes): time1(17), potential_vorticity_surface(4), y(220), x(340)\n",
      "    variables(dimensions): float32 \u001b[4mPressure_potential_vorticity_surface\u001b[0m(time1,potential_vorticity_surface,y,x), float64 \u001b[4mtime1\u001b[0m(time1), float32 \u001b[4mpotential_vorticity_surface\u001b[0m(potential_vorticity_surface), float32 \u001b[4my\u001b[0m(y), float32 \u001b[4mx\u001b[0m(x), int32 \u001b[4mLambertConformal_Projection\u001b[0m(), float64 \u001b[4mlat\u001b[0m(y,x), float64 \u001b[4mlon\u001b[0m(y,x)\n",
      "    groups: \n",
      " ahhhh\n",
      " <class 'netCDF4._netCDF4.Dataset'>\n",
      "root group (NETCDF4 data model, file format HDF5):\n",
      "    dimensions(sizes): level(0), time(0), lat(73)\n",
      "    variables(dimensions): \n",
      "    groups: \n",
      "\n"
     ]
    }
   ],
   "source": [
    "print(data,\"ahhhh\\n\",rootgrp)"
   ]
  },
  {
   "cell_type": "code",
   "execution_count": null,
   "metadata": {},
   "outputs": [],
   "source": [
    "from netCDF4 import Dataset\n",
    "import numpy as np\n",
    "\n",
    "data = Dataset('data.nc', 'w', format='NETCDF4_CLASSIC')\n",
    "\n",
    "data.createDimension('z', 67)\n",
    "data.createDimension('x', 288)\n",
    "data.createDimension('y', 288)\n",
    "# 'z' has to be a tuple\n",
    "nz = data.createVariable('zn', np.float32, ('z',))\n",
    "nx = data.createVariable('xn', np.float32, ('x',))\n",
    "nx = data.createVariable('yn', np.float32, ('y',))\n",
    "\n",
    "N = data.createVariable('N', np.float32, ('z','x','y'))"
   ]
  },
  {
   "cell_type": "code",
   "execution_count": 140,
   "metadata": {},
   "outputs": [],
   "source": [
    "rootgrp = Dataset(\"test.nc\", \"w\", format=\"NETCDF4\")\n",
    "rootgrp.close()\n",
    "\n",
    "rootgrp = Dataset(\"test.nc\", \"a\")\n",
    "#fcstgrp = rootgrp.createGroup(\"forecasts\")\n",
    "#analgrp = rootgrp.createGroup(\"analyses\")\n",
    "#print(rootgrp.groups)"
   ]
  },
  {
   "cell_type": "code",
   "execution_count": 141,
   "metadata": {},
   "outputs": [],
   "source": [
    "level = rootgrp.createDimension(\"level\", None)\n",
    "time = rootgrp.createDimension(\"time\", None)\n",
    "lat = rootgrp.createDimension(\"lat\", 73)\n",
    "lon = rootgrp.createDimension(\"lon\", 144)"
   ]
  },
  {
   "cell_type": "code",
   "execution_count": 143,
   "metadata": {},
   "outputs": [],
   "source": [
    "times = rootgrp.createVariable(\"time\",\"f8\",(\"time\",))\n",
    "levels = rootgrp.createVariable(\"level\",\"i4\",(\"level\",))\n",
    "latitudes = rootgrp.createVariable(\"lat\",\"f4\",(\"lat\",))\n",
    "longitudes = rootgrp.createVariable(\"lon\",\"f4\",(\"lon\",))\n",
    "# two dimensions unlimited\n",
    "temp = rootgrp.createVariable(\"temp\",\"f4\",(\"time\",\"level\",\"lat\",\"lon\",))\n",
    "temp.units = \"K\""
   ]
  },
  {
   "cell_type": "code",
   "execution_count": 144,
   "metadata": {},
   "outputs": [
    {
     "data": {
      "text/plain": [
       "<class 'netCDF4._netCDF4.Variable'>\n",
       "float32 temp(time, level, lat, lon)\n",
       "    units: K\n",
       "unlimited dimensions: time, level\n",
       "current shape = (0, 0, 73, 144)\n",
       "filling on, default _FillValue of 9.969209968386869e+36 used"
      ]
     },
     "execution_count": 144,
     "metadata": {},
     "output_type": "execute_result"
    }
   ],
   "source": [
    "temp"
   ]
  },
  {
   "cell_type": "code",
   "execution_count": 145,
   "metadata": {},
   "outputs": [
    {
     "name": "stdout",
     "output_type": "stream",
     "text": [
      "latitudes =\n",
      "[-90.  -87.5 -85.  -82.5 -80.  -77.5 -75.  -72.5 -70.  -67.5 -65.  -62.5\n",
      " -60.  -57.5 -55.  -52.5 -50.  -47.5 -45.  -42.5 -40.  -37.5 -35.  -32.5\n",
      " -30.  -27.5 -25.  -22.5 -20.  -17.5 -15.  -12.5 -10.   -7.5  -5.   -2.5\n",
      "   0.    2.5   5.    7.5  10.   12.5  15.   17.5  20.   22.5  25.   27.5\n",
      "  30.   32.5  35.   37.5  40.   42.5  45.   47.5  50.   52.5  55.   57.5\n",
      "  60.   62.5  65.   67.5  70.   72.5  75.   77.5  80.   82.5  85.   87.5\n",
      "  90. ]\n"
     ]
    }
   ],
   "source": [
    "import numpy\n",
    "lats =  numpy.arange(-90,91,2.5)\n",
    "lons =  numpy.arange(-180,180,2.5)\n",
    "latitudes[:] = lats\n",
    "longitudes[:] = lons\n",
    "print(\"latitudes =\\n{}\".format(latitudes[:]))"
   ]
  },
  {
   "cell_type": "raw",
   "metadata": {},
   "source": [
    "nlats = len(rootgrp.dimensions[\"lat\"])\n",
    "nlons = len(rootgrp.dimensions[\"lon\"])\n",
    "print(\"temp shape before adding data = {}\".format(temp.shape))\n",
    "\n",
    "from numpy.random import uniform\n",
    "lon2d, lat2d = np.meshgrid(lons, lats)\n",
    "\n",
    "temp = np.cos(np.deg2rad(lat2d) * 4) + np.sin(np.deg2rad(lon2d) * 4)\n",
    "#temp[0:1, 0:10, :, :] = uniform(size=(1, 1, nlats, nlons))\n",
    "temp[0:1, 0:10, :, :] = np.cos(np.deg2rad(lat2d) * 4) + np.sin(np.deg2rad(lon2d) * 4)\n",
    "print(\"temp shape after adding data = {}\".format(temp.shape))\n",
    "\n",
    "# levels have grown, but no values yet assigned.\n",
    "print(\"levels shape after adding pressure data = {}\".format(levels.shape))\n"
   ]
  },
  {
   "cell_type": "code",
   "execution_count": 146,
   "metadata": {},
   "outputs": [
    {
     "name": "stdout",
     "output_type": "stream",
     "text": [
      "temp shape before adding data = (0, 0, 73, 144)\n",
      "temp shape after adding data = (1, 10, 73, 144)\n",
      "levels shape after adding pressure data = (10,)\n"
     ]
    }
   ],
   "source": [
    "nlats = len(rootgrp.dimensions[\"lat\"])\n",
    "nlons = len(rootgrp.dimensions[\"lon\"])\n",
    "print(\"temp shape before adding data = {}\".format(temp.shape))\n",
    "\n",
    "from numpy.random import uniform\n",
    "#temp[0:1, 0:10, :, :] = uniform(size=(5, 10, nlats, nlons))\n",
    "lon2d, lat2d = np.meshgrid(lons, lats)\n",
    "for i in range(0,10):\n",
    "    temp[0:1, i, :, :] = np.cos(np.deg2rad(lat2d) * 4)*np.cos(np.deg2rad(lat2d) * i) + \\\n",
    "    np.sin(np.deg2rad(lon2d) * 4)*np.cos(np.deg2rad(lat2d) * i)\n",
    "\n",
    "print(\"temp shape after adding data = {}\".format(temp.shape))\n",
    "\n",
    "# levels have grown, but no values yet assigned.\n",
    "print(\"levels shape after adding pressure data = {}\".format(levels.shape))\n"
   ]
  },
  {
   "cell_type": "code",
   "execution_count": 147,
   "metadata": {},
   "outputs": [],
   "source": [
    "levels[:] =  [1000.,850.,700.,500.,300.,250.,200.,150.,100.,50.]"
   ]
  },
  {
   "cell_type": "code",
   "execution_count": 110,
   "metadata": {
    "scrolled": true
   },
   "outputs": [
    {
     "data": {
      "text/plain": [
       "(1, 10, 73, 144)"
      ]
     },
     "execution_count": 110,
     "metadata": {},
     "output_type": "execute_result"
    }
   ],
   "source": [
    "temp.shape"
   ]
  },
  {
   "cell_type": "code",
   "execution_count": 75,
   "metadata": {},
   "outputs": [
    {
     "name": "stdout",
     "output_type": "stream",
     "text": [
      "(2, 141, 241)\n"
     ]
    },
    {
     "data": {
      "text/plain": [
       "(2, 80, 141, 241)"
      ]
     },
     "execution_count": 75,
     "metadata": {},
     "output_type": "execute_result"
    }
   ],
   "source": [
    "\n",
    "\n",
    "data2 = data[\"Pressure_potential_vorticity_surface\"][:,1,:,:].squeeze()\n",
    "print(data2.shape)\n",
    "data2 = np.zeros((len(time),len(vert_levs),len(data[\"lat\"]),len(data[\"lon\"])))\n",
    "data2.shape\n",
    "#data2[:] = 2e-06\n",
    "#time.values"
   ]
  },
  {
   "cell_type": "code",
   "execution_count": 53,
   "metadata": {},
   "outputs": [
    {
     "data": {
      "text/plain": [
       "array([20000, 21000, 22000, 23000, 24000, 25000, 26000, 27000, 28000,\n",
       "       29000, 30000, 31000, 32000, 33000, 34000, 35000, 36000, 37000,\n",
       "       38000, 39000, 40000, 41000, 42000, 43000, 44000, 45000, 46000,\n",
       "       47000, 48000, 49000, 50000, 51000, 52000, 53000, 54000, 55000,\n",
       "       56000, 57000, 58000, 59000, 60000, 61000, 62000, 63000, 64000,\n",
       "       65000, 66000, 67000, 68000, 69000, 70000, 71000, 72000, 73000,\n",
       "       74000, 75000, 76000, 77000, 78000, 79000, 80000, 81000, 82000,\n",
       "       83000, 84000, 85000, 86000, 87000, 88000, 89000, 90000, 91000,\n",
       "       92000, 93000, 94000, 95000, 96000, 97000, 98000, 99000])"
      ]
     },
     "execution_count": 53,
     "metadata": {},
     "output_type": "execute_result"
    }
   ],
   "source": [
    "vert_levs"
   ]
  },
  {
   "cell_type": "code",
   "execution_count": 62,
   "metadata": {},
   "outputs": [
    {
     "name": "stdout",
     "output_type": "stream",
     "text": [
      "(array([80]),) (array([80]),)\n",
      "(array([132]),) (array([40]),)\n",
      "Lat start: 40 end: 80 \n",
      "Lon start: 80 end: 132\n"
     ]
    }
   ],
   "source": [
    "start = (45, -110.0)\n",
    "end = (35, -97.0)\n",
    "\n",
    "inset = (0.0255, 0.45, 0.43, 0.43)\n",
    "extent = [start[1]-5,end[1]+5,start[0]+5,end[0]-5]\n",
    "\n",
    "print(np.where(data['lon'].values==360+start[1]),np.where(data['lat'].values==end[0]))\n",
    "print(np.where(data['lon'].values==360+end[1]),np.where(data['lat'].values==start[0]))\n",
    "lon_start_index = np.where(data['lon'].values==360+start[1])\n",
    "lon_end_index = np.where(data['lon'].values==360+end[1])\n",
    "lat_start_index = np.where(data['lat'].values==start[0])\n",
    "lat_end_index = np.where(data['lat'].values==end[0])\n",
    "lat_end_index[0][0]\n",
    "print(\"Lat start:\",lat_start_index[0][0],\"end:\",lat_end_index[0][0],\n",
    "      \"\\nLon start:\",lon_start_index[0][0],\"end:\",lon_end_index[0][0])"
   ]
  },
  {
   "cell_type": "code",
   "execution_count": 76,
   "metadata": {},
   "outputs": [
    {
     "name": "stdout",
     "output_type": "stream",
     "text": [
      "CPU times: user 52.7 s, sys: 151 ms, total: 52.9 s\n",
      "Wall time: 53.5 s\n"
     ]
    }
   ],
   "source": [
    "%%time\n",
    "for m in range(0,1):\n",
    "    for l in range(lat_start_index[0][0],lat_end_index[0][0]-15+1):\n",
    "        for k in range(lon_start_index[0][0],lon_end_index[0][0]-30+1):\n",
    "            for j in range(len(vert_levs)): \n",
    "                if vert_levs[j] == data[\"Pressure_potential_vorticity_surface\"][m,1,l,k].values.astype(int):\n",
    "                    print(\"ahh:\",vert_levs[j],m,l,k)\n",
    "                    data2[m,1,l,k] = 2e-06\n",
    "                else:\n",
    "                    data2[m,1,l,k] = 0"
   ]
  },
  {
   "cell_type": "code",
   "execution_count": null,
   "metadata": {},
   "outputs": [],
   "source": []
  },
  {
   "cell_type": "code",
   "execution_count": 77,
   "metadata": {},
   "outputs": [
    {
     "name": "stdout",
     "output_type": "stream",
     "text": [
      "<xarray.Dataset>\n",
      "Dimensions:                               (isobaric: 31, isobaric4: 34, isobaric6: 21, lat: 141, lon: 241, potential_vorticity_surface: 2, time2: 2, vert_levels: 1, vert_levs: 80)\n",
      "Coordinates:\n",
      "  * time2                                 (time2) datetime64[ns] 2019-09-16T15:00:00 2019-09-16T18:00:00\n",
      "  * lat                                   (lat) float32 55.0 54.75 ... 20.0\n",
      "  * lon                                   (lon) float32 230.0 230.25 ... 290.0\n",
      "    crs                                   object Projection: latitude_longitude\n",
      "  * isobaric                              (isobaric) float32 100.0 ... 100000.0\n",
      "  * isobaric4                             (isobaric4) float32 40.0 ... 100000.0\n",
      "  * isobaric6                             (isobaric6) float32 10000.0 ... 100000.0\n",
      "  * potential_vorticity_surface           (potential_vorticity_surface) float32 -2e-06 2e-06\n",
      "  * vert_levs                             (vert_levs) int64 20000 ... 99000\n",
      "Dimensions without coordinates: vert_levels\n",
      "Data variables:\n",
      "    MSLP_Eta_model_reduction_msl          (vert_levels, time2, lat, lon) float32 100611.64 ... 101299.695\n",
      "    LatLon_Projection                     (vert_levels) int32 0\n",
      "    Relative_humidity_isobaric            (vert_levels, time2, isobaric, lat, lon) float32 0.0 ... 76.8\n",
      "    u-component_of_wind_isobaric          (vert_levels, time2, isobaric, lat, lon) float32 12.720392 ... -6.176426\n",
      "    v-component_of_wind_isobaric          (vert_levels, time2, isobaric, lat, lon) float32 -0.24498901 ... 1.0841699\n",
      "    Geopotential_height_isobaric          (vert_levels, time2, isobaric4, lat, lon) float32 54004.06 ... 115.19163\n",
      "    Temperature_isobaric                  (vert_levels, time2, isobaric4, lat, lon) float32 239.59998 ... 300.87646\n",
      "    Vertical_velocity_pressure_isobaric   (vert_levels, time2, isobaric6, lat, lon) float32 0.0019691407 ... 0.07799316\n",
      "    Pressure_potential_vorticity_surface  (vert_levels, time2, potential_vorticity_surface, lat, lon) float32 nan ... 13834.51\n",
      "Attributes:\n",
      "    Originating_or_generating_Center:                                        ...\n",
      "    Originating_or_generating_Subcenter:                                     ...\n",
      "    GRIB_table_version:                                                      ...\n",
      "    Type_of_generating_process:                                              ...\n",
      "    Analysis_or_forecast_generating_process_identifier_defined_by_originating...\n",
      "    Conventions:                                                             ...\n",
      "    history:                                                                 ...\n",
      "    featureType:                                                             ...\n",
      "    History:                                                                 ...\n",
      "    geospatial_lat_min:                                                      ...\n",
      "    geospatial_lat_max:                                                      ...\n",
      "    geospatial_lon_min:                                                      ...\n",
      "    geospatial_lon_max:                                                      ...\n"
     ]
    }
   ],
   "source": [
    "data_newcoord = data.assign_coords(vert_levs=vert_levs)\n",
    "data = data_newcoord.expand_dims('vert_levels')\n",
    "#print(data.)\n",
    "print(data)"
   ]
  },
  {
   "cell_type": "code",
   "execution_count": 78,
   "metadata": {},
   "outputs": [],
   "source": [
    "AHHA = xr.DataArray(data2, coords=[time.values,vert_levs, data['lat'],data['lon']], \n",
    "             dims=['time2',\"vert_levs\",'lat','lon'])"
   ]
  },
  {
   "cell_type": "code",
   "execution_count": 79,
   "metadata": {},
   "outputs": [
    {
     "name": "stdout",
     "output_type": "stream",
     "text": [
      "<xarray.Dataset>\n",
      "Dimensions:                                (isobaric: 31, isobaric4: 34, isobaric6: 21, lat: 141, lon: 241, potential_vorticity_surface: 2, time2: 2, vert_levs: 80)\n",
      "Coordinates:\n",
      "  * time2                                  (time2) datetime64[ns] 2019-09-16T15:00:00 2019-09-16T18:00:00\n",
      "  * lat                                    (lat) float32 55.0 54.75 ... 20.0\n",
      "  * lon                                    (lon) float32 230.0 230.25 ... 290.0\n",
      "    crs                                    object Projection: latitude_longitude\n",
      "  * isobaric                               (isobaric) float32 100.0 ... 100000.0\n",
      "  * isobaric4                              (isobaric4) float32 40.0 ... 100000.0\n",
      "  * isobaric6                              (isobaric6) float32 10000.0 ... 100000.0\n",
      "  * potential_vorticity_surface            (potential_vorticity_surface) float32 -2e-06 2e-06\n",
      "  * vert_levs                              (vert_levs) int64 20000 ... 99000\n",
      "Data variables:\n",
      "    MSLP_Eta_model_reduction_msl           (time2, lat, lon) float32 100611.64 ... 101299.695\n",
      "    LatLon_Projection                      int32 0\n",
      "    Relative_humidity_isobaric             (time2, isobaric, lat, lon) float32 0.0 ... 76.8\n",
      "    u-component_of_wind_isobaric           (time2, isobaric, lat, lon) float32 12.720392 ... -6.176426\n",
      "    v-component_of_wind_isobaric           (time2, isobaric, lat, lon) float32 -0.24498901 ... 1.0841699\n",
      "    Geopotential_height_isobaric           (time2, isobaric4, lat, lon) float32 54004.06 ... 115.19163\n",
      "    Temperature_isobaric                   (time2, isobaric4, lat, lon) float32 239.59998 ... 300.87646\n",
      "    Vertical_velocity_pressure_isobaric    (time2, isobaric6, lat, lon) float32 0.0019691407 ... 0.07799316\n",
      "    Pressure_potential_vorticity_surface   (time2, potential_vorticity_surface, lat, lon) float32 nan ... 13834.51\n",
      "    Pressure_potential_vorticity_surface2  (time2, vert_levs, lat, lon) float64 0.0 ... 0.0\n",
      "Attributes:\n",
      "    Originating_or_generating_Center:                                        ...\n",
      "    Originating_or_generating_Subcenter:                                     ...\n",
      "    GRIB_table_version:                                                      ...\n",
      "    Type_of_generating_process:                                              ...\n",
      "    Analysis_or_forecast_generating_process_identifier_defined_by_originating...\n",
      "    Conventions:                                                             ...\n",
      "    history:                                                                 ...\n",
      "    featureType:                                                             ...\n",
      "    History:                                                                 ...\n",
      "    geospatial_lat_min:                                                      ...\n",
      "    geospatial_lat_max:                                                      ...\n",
      "    geospatial_lon_min:                                                      ...\n",
      "    geospatial_lon_max:                                                      ...\n"
     ]
    }
   ],
   "source": [
    "data[\"Pressure_potential_vorticity_surface2\"]=(['time2', 'vert_levs', 'lat', 'lon'],  AHHA)\n",
    "data = data.metpy.parse_cf().squeeze()\n",
    "print(data)"
   ]
  },
  {
   "cell_type": "code",
   "execution_count": 80,
   "metadata": {
    "scrolled": false
   },
   "outputs": [
    {
     "name": "stdout",
     "output_type": "stream",
     "text": [
      "AHHHHHHH\n"
     ]
    },
    {
     "name": "stderr",
     "output_type": "stream",
     "text": [
      "/Users/chowdahead/anaconda3/lib/python3.7/site-packages/ipykernel_launcher.py:49: FutureWarning: The inplace argument has been deprecated and will be removed in a future version of xarray.\n"
     ]
    },
    {
     "name": "stdout",
     "output_type": "stream",
     "text": [
      "vert_levs\n",
      "['2019-09-16T15:00:00.000000000' '2019-09-16T18:00:00.000000000']\n",
      "CPU times: user 2.27 s, sys: 101 ms, total: 2.37 s\n",
      "Wall time: 2.25 s\n"
     ]
    }
   ],
   "source": [
    "%%time\n",
    "\n",
    "Var_Cross(\"Pressure_potential_vorticity_surface\",\n",
    "                2020,1,16,0,start,end,Radar=False,inset=False,inset_dims=inset,Extent=extent,Data=data) #Data=data File=File"
   ]
  },
  {
   "cell_type": "code",
   "execution_count": 41,
   "metadata": {},
   "outputs": [
    {
     "data": {
      "text/plain": [
       "<xarray.DataArray 'Pressure_potential_vorticity_surface' (lat: 141, lon: 241)>\n",
       "array([[23804.244, 24775.443, 24111.443, ..., 23557.844, 23585.043, 23628.244],\n",
       "       [23641.043, 24439.443, 24788.244, ..., 23255.443, 23164.244, 23116.244],\n",
       "       [24378.645, 23684.244, 24788.244, ..., 24877.844, 24501.844, 24231.443],\n",
       "       ...,\n",
       "       [10367.443, 10092.243,  9577.043, ..., 16324.244, 11804.243, 14389.844],\n",
       "       [ 9922.643,  9373.843,  9365.843, ..., 14613.844, 14482.644, 14487.443],\n",
       "       [10071.443, 10053.843, 10081.043, ..., 13695.443, 14201.044, 14490.644]],\n",
       "      dtype=float32)\n",
       "Coordinates:\n",
       "    time2                        datetime64[ns] 2019-09-16T15:00:00\n",
       "  * lat                          (lat) float32 55.0 54.75 54.5 ... 20.25 20.0\n",
       "  * lon                          (lon) float32 230.0 230.25 ... 289.75 290.0\n",
       "    crs                          object Projection: latitude_longitude\n",
       "    potential_vorticity_surface  float32 2e-06\n",
       "Attributes:\n",
       "    long_name:                      Pressure @ Potential vorticity surface\n",
       "    units:                          Pa\n",
       "    abbreviation:                   PRES\n",
       "    grid_mapping:                   LatLon_Projection\n",
       "    Grib_Variable_Id:               VAR_0-3-0_L109\n",
       "    Grib2_Parameter:                [0 3 0]\n",
       "    Grib2_Parameter_Discipline:     Meteorological products\n",
       "    Grib2_Parameter_Category:       Mass\n",
       "    Grib2_Parameter_Name:           Pressure\n",
       "    Grib2_Level_Type:               109\n",
       "    Grib2_Level_Desc:               Potential vorticity surface\n",
       "    Grib2_Generating_Process_Type:  Forecast"
      ]
     },
     "execution_count": 41,
     "metadata": {},
     "output_type": "execute_result"
    }
   ],
   "source": [
    "data['Pressure_potential_vorticity_surface'][0,1,:,:]"
   ]
  },
  {
   "cell_type": "code",
   "execution_count": 26,
   "metadata": {},
   "outputs": [
    {
     "data": {
      "text/plain": [
       "<xarray.DataArray 'Vertical_velocity_pressure_isobaric' (time2: 2, isobaric6: 21, lat: 141, lon: 241)>\n",
       "array([[[[ 0.001969, ...,  0.002569],\n",
       "         ...,\n",
       "         [ 0.016569, ..., -0.034631]],\n",
       "\n",
       "        ...,\n",
       "\n",
       "        [[ 0.279199, ...,  0.038199],\n",
       "         ...,\n",
       "         [ 0.010199, ...,  0.011199]]],\n",
       "\n",
       "\n",
       "       [[[-0.002404, ..., -0.000604],\n",
       "         ...,\n",
       "         [-0.007804, ...,  0.036196]],\n",
       "\n",
       "        ...,\n",
       "\n",
       "        [[ 0.031993, ...,  0.024993],\n",
       "         ...,\n",
       "         [ 0.030993, ...,  0.077993]]]], dtype=float32)\n",
       "Coordinates:\n",
       "  * time2      (time2) datetime64[ns] 2019-09-16T15:00:00 2019-09-16T18:00:00\n",
       "  * lat        (lat) float32 55.0 54.75 54.5 54.25 ... 20.75 20.5 20.25 20.0\n",
       "  * lon        (lon) float32 230.0 230.25 230.5 230.75 ... 289.5 289.75 290.0\n",
       "    crs        object Projection: latitude_longitude\n",
       "  * isobaric6  (isobaric6) float32 10000.0 15000.0 20000.0 ... 97500.0 100000.0\n",
       "Attributes:\n",
       "    long_name:                      Vertical velocity (pressure) @ Isobaric s...\n",
       "    units:                          Pa/s\n",
       "    abbreviation:                   VVEL\n",
       "    grid_mapping:                   LatLon_Projection\n",
       "    Grib_Variable_Id:               VAR_0-2-8_L100\n",
       "    Grib2_Parameter:                [0 2 8]\n",
       "    Grib2_Parameter_Discipline:     Meteorological products\n",
       "    Grib2_Parameter_Category:       Momentum\n",
       "    Grib2_Parameter_Name:           Vertical velocity (pressure)\n",
       "    Grib2_Level_Type:               100\n",
       "    Grib2_Level_Desc:               Isobaric surface\n",
       "    Grib2_Generating_Process_Type:  Forecast"
      ]
     },
     "execution_count": 26,
     "metadata": {},
     "output_type": "execute_result"
    }
   ],
   "source": [
    "data['Vertical_velocity_pressure_isobaric']"
   ]
  },
  {
   "cell_type": "code",
   "execution_count": null,
   "metadata": {},
   "outputs": [],
   "source": []
  }
 ],
 "metadata": {
  "kernelspec": {
   "display_name": "Python 3",
   "language": "python",
   "name": "python3"
  },
  "language_info": {
   "codemirror_mode": {
    "name": "ipython",
    "version": 3
   },
   "file_extension": ".py",
   "mimetype": "text/x-python",
   "name": "python",
   "nbconvert_exporter": "python",
   "pygments_lexer": "ipython3",
   "version": "3.7.3"
  }
 },
 "nbformat": 4,
 "nbformat_minor": 1
}
